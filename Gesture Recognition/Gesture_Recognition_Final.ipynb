{
 "cells": [
  {
   "cell_type": "markdown",
   "metadata": {
    "id": "gJD3dA7P2Y1u"
   },
   "source": [
    "# Gesture Recognition \n",
    "In this group project, you are going to build a 3D Conv model that will be able to predict the 5 gestures correctly. Please import the following libraries to get started."
   ]
  },
  {
   "cell_type": "code",
   "execution_count": 1,
   "metadata": {
    "id": "4mG2tuTIDMqZ"
   },
   "outputs": [],
   "source": [
    "# As the project is implemented in colab, install the dependencies and required libraries\n",
    "!pip install -U -q PyDrive\n",
    "from pydrive.auth import GoogleAuth\n",
    "from pydrive.drive import GoogleDrive\n",
    "from google.colab import auth\n",
    "from oauth2client.client import GoogleCredentials"
   ]
  },
  {
   "cell_type": "code",
   "execution_count": 2,
   "metadata": {
    "id": "weqBnG_uDUcm"
   },
   "outputs": [],
   "source": [
    "# User authentication\n",
    "auth.authenticate_user()\n",
    "gauth = GoogleAuth()\n",
    "gauth.credentials = GoogleCredentials.get_application_default()\n",
    "drive = GoogleDrive(gauth)"
   ]
  },
  {
   "cell_type": "code",
   "execution_count": 3,
   "metadata": {
    "colab": {
     "base_uri": "https://localhost:8080/"
    },
    "id": "8A3SIL3j-_6w",
    "outputId": "4f32ccd6-e7ce-47f8-ba45-4e014c0e2193"
   },
   "outputs": [
    {
     "name": "stdout",
     "output_type": "stream",
     "text": [
      "Requirement already satisfied: scipy==1.1.0 in /usr/local/lib/python3.7/dist-packages (1.1.0)\n",
      "Requirement already satisfied: numpy>=1.8.2 in /usr/local/lib/python3.7/dist-packages (from scipy==1.1.0) (1.19.5)\n",
      "Requirement already satisfied: Pillow in /usr/local/lib/python3.7/dist-packages (7.1.2)\n"
     ]
    }
   ],
   "source": [
    "!pip install scipy==1.1.0\n",
    "!pip install Pillow"
   ]
  },
  {
   "cell_type": "code",
   "execution_count": 4,
   "metadata": {
    "id": "ERuFQaCesfUd"
   },
   "outputs": [],
   "source": [
    "import numpy as np\n",
    "import os\n",
    "from scipy.misc import imread, imresize\n",
    "import datetime\n",
    "import os\n",
    "import math \n"
   ]
  },
  {
   "cell_type": "code",
   "execution_count": 5,
   "metadata": {
    "colab": {
     "base_uri": "https://localhost:8080/"
    },
    "id": "hRt12zxBbF8V",
    "outputId": "83d22147-5175-47af-882d-9d5540414137"
   },
   "outputs": [
    {
     "name": "stdout",
     "output_type": "stream",
     "text": [
      "Drive already mounted at /content/gdrive; to attempt to forcibly remount, call drive.mount(\"/content/gdrive\", force_remount=True).\n"
     ]
    }
   ],
   "source": [
    "import numpy as np\n",
    "from google.colab import drive\n",
    "drive.mount('/content/gdrive')\n",
    "train_doc = np.random.permutation(open('/content/gdrive/My Drive/Gesture_Recognition/train.csv').readlines())\n",
    "val_doc = np.random.permutation(open(\"/content/gdrive/My Drive/Gesture_Recognition/val.csv\").readlines())\n",
    "batch_size = 5"
   ]
  },
  {
   "cell_type": "code",
   "execution_count": 7,
   "metadata": {
    "colab": {
     "base_uri": "https://localhost:8080/"
    },
    "id": "K7M16X9Q8zo3",
    "outputId": "71b20d3c-ccca-4a46-f1a4-c220418dbd44"
   },
   "outputs": [
    {
     "name": "stdout",
     "output_type": "stream",
     "text": [
      "# training sequences = 663\n",
      "# validation sequences = 100\n",
      "# epochs = 10\n"
     ]
    }
   ],
   "source": [
    "# curr_dt_time = datetime.datetime.now()\n",
    "train_path = '/content/gdrive/My Drive/Gesture_Recognition/train'\n",
    "val_path = '/content/gdrive/My Drive/Gesture_Recognition/val'\n",
    "num_train_sequences = len(train_doc)\n",
    "print('# training sequences =', num_train_sequences)\n",
    "num_val_sequences = len(val_doc)\n",
    "print('# validation sequences =', num_val_sequences)\n",
    "num_epochs = 10 # choose the number of epochs\n",
    "print ('# epochs =', num_epochs)"
   ]
  },
  {
   "cell_type": "markdown",
   "metadata": {
    "id": "KjtQkQA52Y13"
   },
   "source": [
    "We set the random seed so that the results don't vary drastically."
   ]
  },
  {
   "cell_type": "code",
   "execution_count": 8,
   "metadata": {
    "id": "lOxZ7_x-2Y14"
   },
   "outputs": [],
   "source": [
    "np.random.seed(30)\n",
    "import random as rn\n",
    "rn.seed(30)\n",
    "from keras import backend as K\n",
    "import tensorflow as tf\n",
    "tf.random.set_seed(30)"
   ]
  },
  {
   "cell_type": "code",
   "execution_count": 9,
   "metadata": {
    "id": "pwniCJTt2Y15"
   },
   "outputs": [],
   "source": [
    "#!pip install opencv-python"
   ]
  },
  {
   "cell_type": "code",
   "execution_count": 10,
   "metadata": {
    "id": "U_jhLoiI2Y15"
   },
   "outputs": [],
   "source": [
    "import cv2\n",
    "import matplotlib.pyplot as plt\n",
    "% matplotlib inline"
   ]
  },
  {
   "cell_type": "markdown",
   "metadata": {
    "id": "UDG3u0_m2Y16"
   },
   "source": [
    "In this block, you read the folder names for training and validation. You also set the `batch_size` here. Note that you set the batch size in such a way that you are able to use the GPU in full capacity. You keep increasing the batch size until the machine throws an error."
   ]
  },
  {
   "cell_type": "code",
   "execution_count": 11,
   "metadata": {
    "id": "EUFZ5z6-2Y16"
   },
   "outputs": [],
   "source": [
    "from keras.models import Sequential, Model\n",
    "from keras.layers import Dense, GRU, Flatten, TimeDistributed, Flatten, BatchNormalization, Activation\n",
    "from keras.layers.convolutional import Conv3D, MaxPooling3D, Conv2D, MaxPooling2D\n",
    "from keras.layers.recurrent import LSTM\n",
    "from keras.callbacks import ModelCheckpoint, ReduceLROnPlateau\n",
    "from keras import optimizers\n",
    "from keras.layers import Dropout"
   ]
  },
  {
   "cell_type": "code",
   "execution_count": 12,
   "metadata": {
    "id": "GgUwc9gR2Y16"
   },
   "outputs": [],
   "source": [
    "project_folder='/content/gdrive/My Drive/Gesture_Recognition/'"
   ]
  },
  {
   "cell_type": "markdown",
   "metadata": {
    "id": "vnYrbQzr2Y16"
   },
   "source": [
    "##### Plotting function"
   ]
  },
  {
   "cell_type": "code",
   "execution_count": 13,
   "metadata": {
    "id": "xtYkKnoX2Y17"
   },
   "outputs": [],
   "source": [
    "def plot(history):\n",
    "    fig, axes = plt.subplots(nrows=1, ncols=2, figsize=(15,4))\n",
    "    axes[0].plot(history.history['loss'])   \n",
    "    axes[0].plot(history.history['val_loss'])\n",
    "    axes[0].legend(['loss','val_loss'])\n",
    "\n",
    "    axes[1].plot(history.history['categorical_accuracy'])   \n",
    "    axes[1].plot(history.history['val_categorical_accuracy'])\n",
    "    axes[1].legend(['categorical_accuracy','val_categorical_accuracy'])"
   ]
  },
  {
   "cell_type": "markdown",
   "metadata": {
    "id": "uY4yWnNx2Y17"
   },
   "source": [
    "## Generator\n",
    "This is one of the most important part of the code. The overall structure of the generator has been given. In the generator, you are going to preprocess the images as you have images of 2 different dimensions as well as create a batch of video frames. You have to experiment with `img_idx`, `y`,`z` and normalization such that you get high accuracy."
   ]
  },
  {
   "cell_type": "code",
   "execution_count": 14,
   "metadata": {
    "id": "8WEXyyyU2Y17"
   },
   "outputs": [],
   "source": [
    "import abc\n",
    "class ModelBuilder(metaclass= abc.ABCMeta):\n",
    "    \n",
    "    def initialize_path(self,project_folder):\n",
    "        self.train_doc = np.random.permutation(open('/content/gdrive/My Drive/Gesture_Recognition/train.csv').readlines())\n",
    "        self.val_doc = np.random.permutation(open('/content/gdrive/My Drive/Gesture_Recognition/val.csv').readlines())\n",
    "        self.train_path = '/content/gdrive/My Drive/Gesture_Recognition/train'\n",
    "        self.val_path =  '/content/gdrive/My Drive/Gesture_Recognition/val'\n",
    "        self.num_train_sequences = len(self.train_doc)\n",
    "        self.num_val_sequences = len(self.val_doc)\n",
    "        \n",
    "    def initialize_image_properties(self,image_height=100,image_width=100):\n",
    "        self.image_height=image_height\n",
    "        self.image_width=image_width\n",
    "        self.channels=3\n",
    "        self.num_classes=5\n",
    "        self.total_frames=30\n",
    "          \n",
    "    def initialize_hyperparams(self,frames_to_sample=30,batch_size=20,num_epochs=20):\n",
    "        self.frames_to_sample=frames_to_sample\n",
    "        self.batch_size=batch_size\n",
    "        self.num_epochs=num_epochs\n",
    "        \n",
    "        \n",
    "    def generator(self,source_path, folder_list, augment=False):\n",
    "        img_idx = np.round(np.linspace(0,self.total_frames-1,self.frames_to_sample)).astype(int)\n",
    "        batch_size=self.batch_size\n",
    "        while True:\n",
    "            t = np.random.permutation(folder_list)\n",
    "            num_batches = len(t)//batch_size\n",
    "        \n",
    "            for batch in range(num_batches): \n",
    "                batch_data, batch_labels= self.one_batch_data(source_path,t,batch,batch_size,img_idx,augment)\n",
    "                yield batch_data, batch_labels \n",
    "\n",
    "            remaining_seq=len(t)%batch_size\n",
    "        \n",
    "            if (remaining_seq != 0):\n",
    "                batch_data, batch_labels= self.one_batch_data(source_path,t,num_batches,batch_size,img_idx,augment,remaining_seq)\n",
    "                yield batch_data, batch_labels \n",
    "    \n",
    "    \n",
    "    def one_batch_data(self,source_path,t,batch,batch_size,img_idx,augment,remaining_seq=0):\n",
    "    \n",
    "        seq_len = remaining_seq if remaining_seq else batch_size\n",
    "    \n",
    "        batch_data = np.zeros((seq_len,len(img_idx),self.image_height,self.image_width,self.channels)) \n",
    "        batch_labels = np.zeros((seq_len,self.num_classes)) \n",
    "    \n",
    "        if (augment): batch_data_aug = np.zeros((seq_len,len(img_idx),self.image_height,self.image_width,self.channels))\n",
    "\n",
    "        \n",
    "        for folder in range(seq_len): \n",
    "            imgs = os.listdir(source_path+'/'+ t[folder + (batch*batch_size)].split(';')[0]) \n",
    "            for idx,item in enumerate(img_idx): \n",
    "                image = imread(source_path+'/'+ t[folder + (batch*batch_size)].strip().split(';')[0]+'/'+imgs[item]).astype(np.float32)\n",
    "                image_resized=imresize(image,(self.image_height,self.image_width,3))\n",
    "            \n",
    "\n",
    "                batch_data[folder,idx,:,:,0] = (image_resized[:,:,0])/255\n",
    "                batch_data[folder,idx,:,:,1] = (image_resized[:,:,1])/255\n",
    "                batch_data[folder,idx,:,:,2] = (image_resized[:,:,2])/255\n",
    "            \n",
    "                if (augment):\n",
    "                    shifted = cv2.warpAffine(image, \n",
    "                                             np.float32([[1, 0, np.random.randint(-30,30)],[0, 1, np.random.randint(-30,30)]]), \n",
    "                                            (image.shape[1], image.shape[0]))\n",
    "                    \n",
    "                    gray = cv2.cvtColor(shifted,cv2.COLOR_BGR2GRAY)\n",
    "\n",
    "                    x0, y0 = np.argwhere(gray > 0).min(axis=0)\n",
    "                    x1, y1 = np.argwhere(gray > 0).max(axis=0) \n",
    "                    \n",
    "                    cropped=shifted[x0:x1,y0:y1,:]\n",
    "                    \n",
    "                    image_resized=imresize(cropped,(self.image_height,self.image_width,3))\n",
    "            \n",
    "                    batch_data_aug[folder,idx,:,:,0] = (image_resized[:,:,0])/255\n",
    "                    batch_data_aug[folder,idx,:,:,1] = (image_resized[:,:,1])/255\n",
    "                    batch_data_aug[folder,idx,:,:,2] = (image_resized[:,:,2])/255\n",
    "                \n",
    "            \n",
    "            batch_labels[folder, int(t[folder + (batch*batch_size)].strip().split(';')[2])] = 1\n",
    "            \n",
    "    \n",
    "        if (augment):\n",
    "            batch_data=np.concatenate([batch_data,batch_data_aug])\n",
    "            batch_labels=np.concatenate([batch_labels,batch_labels])\n",
    "\n",
    "        \n",
    "        return(batch_data,batch_labels)\n",
    "    \n",
    "    \n",
    "    def train_model(self, model, augment_data=False):\n",
    "        train_generator = self.generator(self.train_path, self.train_doc,augment=augment_data)\n",
    "        val_generator = self.generator(self.val_path, self.val_doc)\n",
    "\n",
    "        model_name = 'model_init' + '_' + str(datetime.datetime.now()).replace(' ','').replace(':','_') + '/'\n",
    "    \n",
    "        if not os.path.exists(model_name):\n",
    "            os.mkdir(model_name)\n",
    "        \n",
    "        filepath = model_name + 'model-{epoch:05d}-{loss:.5f}-{categorical_accuracy:.5f}-{val_loss:.5f}-{val_categorical_accuracy:.5f}.h5'\n",
    "\n",
    "        checkpoint = ModelCheckpoint(filepath, monitor='val_loss', verbose=1, save_best_only=False, save_weights_only=False, mode='auto', period=1)\n",
    "        LR = ReduceLROnPlateau(monitor='val_loss', factor=0.2, verbose=1, patience=4)\n",
    "        callbacks_list = [checkpoint, LR]\n",
    "\n",
    "        if (self.num_train_sequences%self.batch_size) == 0:\n",
    "            steps_per_epoch = int(self.num_train_sequences/self.batch_size)\n",
    "        else:\n",
    "            steps_per_epoch = (self.num_train_sequences//self.batch_size) + 1\n",
    "\n",
    "        if (self.num_val_sequences%self.batch_size) == 0:\n",
    "            validation_steps = int(self.num_val_sequences/self.batch_size)\n",
    "        else:\n",
    "            validation_steps = (self.num_val_sequences//self.batch_size) + 1\n",
    "    \n",
    "        history=model.fit_generator(train_generator, steps_per_epoch=steps_per_epoch, epochs=self.num_epochs, verbose=1, \n",
    "                            callbacks=callbacks_list, validation_data=val_generator, \n",
    "                            validation_steps=validation_steps, class_weight=None, workers=1, initial_epoch=0)\n",
    "        return history\n",
    "\n",
    "        \n",
    "    @abc.abstractmethod\n",
    "    def define_model(self):\n",
    "        pass"
   ]
  },
  {
   "cell_type": "code",
   "execution_count": 15,
   "metadata": {
    "id": "hhLCcd6yWK3q"
   },
   "outputs": [],
   "source": [
    "class ModelConv3D1(ModelBuilder):\n",
    "    \n",
    "    def define_model(self):\n",
    "\n",
    "        model = Sequential()\n",
    "        model.add(Conv3D(16, (3, 3, 3), padding='same',\n",
    "                 input_shape=(self.frames_to_sample,self.image_height,self.image_width,self.channels)))\n",
    "        model.add(Activation('relu'))\n",
    "        model.add(BatchNormalization())\n",
    "        model.add(MaxPooling3D(pool_size=(2, 2, 2)))\n",
    "\n",
    "        model.add(Conv3D(32, (2, 2, 2), padding='same'))\n",
    "        model.add(Activation('relu'))\n",
    "        model.add(BatchNormalization())\n",
    "        model.add(MaxPooling3D(pool_size=(2, 2, 2)))\n",
    "\n",
    "        model.add(Conv3D(64, (2, 2, 2), padding='same'))\n",
    "        model.add(Activation('relu'))\n",
    "        model.add(BatchNormalization())\n",
    "        model.add(MaxPooling3D(pool_size=(2, 2, 2)))\n",
    "\n",
    "        model.add(Conv3D(128, (2, 2, 2), padding='same'))\n",
    "        model.add(Activation('relu'))\n",
    "        model.add(BatchNormalization())\n",
    "        model.add(MaxPooling3D(pool_size=(2, 2, 2)))\n",
    "\n",
    "        model.add(Flatten())\n",
    "        model.add(Dense(128,activation='relu'))\n",
    "        model.add(BatchNormalization())\n",
    "        model.add(Dropout(0.5))\n",
    "\n",
    "        model.add(Dense(64,activation='relu'))\n",
    "        model.add(BatchNormalization())\n",
    "        model.add(Dropout(0.25))\n",
    "\n",
    "\n",
    "        model.add(Dense(self.num_classes,activation='softmax'))\n",
    "\n",
    "        optimiser = optimizers.Adam()\n",
    "        #optimiser = 'sgd'\n",
    "        model.compile(optimizer=optimiser, loss='categorical_crossentropy', metrics=['categorical_accuracy'])\n",
    "        return model"
   ]
  },
  {
   "cell_type": "markdown",
   "metadata": {
    "id": "W9FLV7AN2Y19"
   },
   "source": [
    "## Model\n",
    "Here you make the model using different functionalities that Keras provides. Remember to use `Conv3D` and `MaxPooling3D` and not `Conv2D` and `Maxpooling2D` for a 3D convolution model. You would want to use `TimeDistributed` while building a Conv2D + RNN model. Also remember that the last layer is the softmax. Design the network in such a way that the model is able to give good accuracy on the least number of parameters so that it can fit in the memory of the webcam."
   ]
  },
  {
   "cell_type": "markdown",
   "metadata": {
    "id": "CYpYdspt2Y1_"
   },
   "source": [
    "##### Sample Cropping"
   ]
  },
  {
   "cell_type": "code",
   "execution_count": 16,
   "metadata": {
    "colab": {
     "base_uri": "https://localhost:8080/",
     "height": 377
    },
    "id": "GRejsLeH2Y1_",
    "outputId": "3bd6f01e-c41d-40fc-910d-da4e698d065c"
   },
   "outputs": [
    {
     "name": "stderr",
     "output_type": "stream",
     "text": [
      "/usr/local/lib/python3.7/dist-packages/ipykernel_launcher.py:56: DeprecationWarning:     `imread` is deprecated!\n",
      "    `imread` is deprecated in SciPy 1.0.0, and will be removed in 1.2.0.\n",
      "    Use ``imageio.imread`` instead.\n",
      "/usr/local/lib/python3.7/dist-packages/ipykernel_launcher.py:57: DeprecationWarning:     `imresize` is deprecated!\n",
      "    `imresize` is deprecated in SciPy 1.0.0, and will be removed in 1.2.0.\n",
      "    Use ``skimage.transform.resize`` instead.\n",
      "/usr/local/lib/python3.7/dist-packages/ipykernel_launcher.py:76: DeprecationWarning:     `imresize` is deprecated!\n",
      "    `imresize` is deprecated in SciPy 1.0.0, and will be removed in 1.2.0.\n",
      "    Use ``skimage.transform.resize`` instead.\n"
     ]
    },
    {
     "data": {
      "text/plain": [
       "<matplotlib.image.AxesImage at 0x7f364cd74250>"
      ]
     },
     "execution_count": 16,
     "metadata": {
      "tags": []
     },
     "output_type": "execute_result"
    },
    {
     "data": {
      "image/png": "[encoded data removed]",
      "text/plain": [
       "<Figure size 432x288 with 2 Axes>"
      ]
     },
     "metadata": {
      "needs_background": "light",
      "tags": []
     },
     "output_type": "display_data"
    }
   ],
   "source": [
    "test_generator=ModelConv3D1()\n",
    "test_generator.initialize_path(project_folder)\n",
    "test_generator.initialize_image_properties(image_height=160,image_width=160)\n",
    "test_generator.initialize_hyperparams(frames_to_sample=30,batch_size=3,num_epochs=10)\n",
    "\n",
    "g=test_generator.generator(test_generator.val_path,test_generator.val_doc,augment=True)\n",
    "batch_data, batch_labels=next(g)\n",
    "fig, axes = plt.subplots(nrows=1, ncols=2)\n",
    "axes[0].imshow(batch_data[0,15,:,:,:])   \n",
    "axes[1].imshow(batch_data[3,15,:,:,:])  "
   ]
  },
  {
   "cell_type": "markdown",
   "metadata": {
    "collapsed": true,
    "id": "GEk-Zxtj2Y2F"
   },
   "source": [
    "##### So experimentations are carried with batch size fixed around 15-20 and changing the resolution and number of image per sequence based on the device memory constraints . Models are designed such that their memory foot print is less than 50 MB which corresponds to 4.3 million parameters assuming the datatype size of parameters to be 12 bytes"
   ]
  },
  {
   "cell_type": "markdown",
   "metadata": {
    "id": "tYz6BjIg2Y2F"
   },
   "source": [
    "# Model 1 - Base Model - No Data Augmentation Batch Size 40 and Epoch 10"
   ]
  },
  {
   "cell_type": "code",
   "execution_count": 17,
   "metadata": {
    "collapsed": true,
    "id": "NDrc-8gL2Y2F"
   },
   "outputs": [],
   "source": [
    "class ModelConv3D1(ModelBuilder):\n",
    "    \n",
    "    def define_model(self,filtersize=(3,3,3),dense_neurons=64,dropout=0.25):\n",
    "\n",
    "        model = Sequential()\n",
    "        model.add(Conv3D(16, filtersize, padding='same',\n",
    "                 input_shape=(self.frames_to_sample,self.image_height,self.image_width,self.channels)))\n",
    "        model.add(Activation('relu'))\n",
    "        model.add(BatchNormalization())\n",
    "        model.add(MaxPooling3D(pool_size=(2, 2, 2)))\n",
    "\n",
    "        model.add(Conv3D(32, filtersize, padding='same'))\n",
    "        model.add(Activation('relu'))\n",
    "        model.add(BatchNormalization())\n",
    "        model.add(MaxPooling3D(pool_size=(2, 2, 2)))\n",
    "\n",
    "        model.add(Conv3D(64, filtersize, padding='same'))\n",
    "        model.add(Activation('relu'))\n",
    "        model.add(BatchNormalization())\n",
    "        model.add(MaxPooling3D(pool_size=(2, 2, 2)))\n",
    "\n",
    "        model.add(Conv3D(128, filtersize, padding='same'))\n",
    "        model.add(Activation('relu'))\n",
    "        model.add(BatchNormalization())\n",
    "        model.add(MaxPooling3D(pool_size=(2, 2, 2)))\n",
    "\n",
    "        model.add(Flatten())\n",
    "        model.add(Dense(dense_neurons,activation='relu'))\n",
    "        model.add(BatchNormalization())\n",
    "        model.add(Dropout(dropout))\n",
    "\n",
    "        model.add(Dense(dense_neurons,activation='relu'))\n",
    "        model.add(BatchNormalization())\n",
    "        model.add(Dropout(dropout))\n",
    "\n",
    "\n",
    "        model.add(Dense(self.num_classes,activation='softmax'))\n",
    "\n",
    "        optimiser = optimizers.Adam()\n",
    "        model.compile(optimizer=optimiser, loss='categorical_crossentropy', metrics=['categorical_accuracy'])\n",
    "        return model"
   ]
  },
  {
   "cell_type": "code",
   "execution_count": 18,
   "metadata": {
    "colab": {
     "base_uri": "https://localhost:8080/"
    },
    "id": "nUZCpCU92Y2G",
    "outputId": "164d8662-2dba-433e-8693-622265811f7a"
   },
   "outputs": [
    {
     "name": "stdout",
     "output_type": "stream",
     "text": [
      "Model: \"sequential\"\n",
      "_________________________________________________________________\n",
      "Layer (type)                 Output Shape              Param #   \n",
      "=================================================================\n",
      "conv3d (Conv3D)              (None, 20, 160, 160, 16)  1312      \n",
      "_________________________________________________________________\n",
      "activation (Activation)      (None, 20, 160, 160, 16)  0         \n",
      "_________________________________________________________________\n",
      "batch_normalization (BatchNo (None, 20, 160, 160, 16)  64        \n",
      "_________________________________________________________________\n",
      "max_pooling3d (MaxPooling3D) (None, 10, 80, 80, 16)    0         \n",
      "_________________________________________________________________\n",
      "conv3d_1 (Conv3D)            (None, 10, 80, 80, 32)    13856     \n",
      "_________________________________________________________________\n",
      "activation_1 (Activation)    (None, 10, 80, 80, 32)    0         \n",
      "_________________________________________________________________\n",
      "batch_normalization_1 (Batch (None, 10, 80, 80, 32)    128       \n",
      "_________________________________________________________________\n",
      "max_pooling3d_1 (MaxPooling3 (None, 5, 40, 40, 32)     0         \n",
      "_________________________________________________________________\n",
      "conv3d_2 (Conv3D)            (None, 5, 40, 40, 64)     55360     \n",
      "_________________________________________________________________\n",
      "activation_2 (Activation)    (None, 5, 40, 40, 64)     0         \n",
      "_________________________________________________________________\n",
      "batch_normalization_2 (Batch (None, 5, 40, 40, 64)     256       \n",
      "_________________________________________________________________\n",
      "max_pooling3d_2 (MaxPooling3 (None, 2, 20, 20, 64)     0         \n",
      "_________________________________________________________________\n",
      "conv3d_3 (Conv3D)            (None, 2, 20, 20, 128)    221312    \n",
      "_________________________________________________________________\n",
      "activation_3 (Activation)    (None, 2, 20, 20, 128)    0         \n",
      "_________________________________________________________________\n",
      "batch_normalization_3 (Batch (None, 2, 20, 20, 128)    512       \n",
      "_________________________________________________________________\n",
      "max_pooling3d_3 (MaxPooling3 (None, 1, 10, 10, 128)    0         \n",
      "_________________________________________________________________\n",
      "flatten (Flatten)            (None, 12800)             0         \n",
      "_________________________________________________________________\n",
      "dense (Dense)                (None, 64)                819264    \n",
      "_________________________________________________________________\n",
      "batch_normalization_4 (Batch (None, 64)                256       \n",
      "_________________________________________________________________\n",
      "dropout (Dropout)            (None, 64)                0         \n",
      "_________________________________________________________________\n",
      "dense_1 (Dense)              (None, 64)                4160      \n",
      "_________________________________________________________________\n",
      "batch_normalization_5 (Batch (None, 64)                256       \n",
      "_________________________________________________________________\n",
      "dropout_1 (Dropout)          (None, 64)                0         \n",
      "_________________________________________________________________\n",
      "dense_2 (Dense)              (None, 5)                 325       \n",
      "=================================================================\n",
      "Total params: 1,117,061\n",
      "Trainable params: 1,116,325\n",
      "Non-trainable params: 736\n",
      "_________________________________________________________________\n"
     ]
    }
   ],
   "source": [
    "conv_3d1=ModelConv3D1()\n",
    "conv_3d1.initialize_path(project_folder)\n",
    "conv_3d1.initialize_image_properties(image_height=160,image_width=160)\n",
    "conv_3d1.initialize_hyperparams(frames_to_sample=20,batch_size=40,num_epochs=10)\n",
    "conv_3d1_model=conv_3d1.define_model(dropout=0.25)\n",
    "conv_3d1_model.summary()"
   ]
  },
  {
   "cell_type": "code",
   "execution_count": 19,
   "metadata": {
    "colab": {
     "base_uri": "https://localhost:8080/"
    },
    "id": "SSzzOpZl2Y2G",
    "outputId": "b4ef1e04-00c7-4ff0-f602-2087345f60cd"
   },
   "outputs": [
    {
     "name": "stdout",
     "output_type": "stream",
     "text": [
      "Total Params: 1117061\n",
      "WARNING:tensorflow:`period` argument is deprecated. Please use `save_freq` to specify the frequency in number of batches seen.\n"
     ]
    },
    {
     "name": "stderr",
     "output_type": "stream",
     "text": [
      "/usr/local/lib/python3.7/dist-packages/tensorflow/python/keras/engine/training.py:1844: UserWarning: `Model.fit_generator` is deprecated and will be removed in a future version. Please use `Model.fit`, which supports generators.\n",
      "  warnings.warn('`Model.fit_generator` is deprecated and '\n",
      "/usr/local/lib/python3.7/dist-packages/ipykernel_launcher.py:56: DeprecationWarning:     `imread` is deprecated!\n",
      "    `imread` is deprecated in SciPy 1.0.0, and will be removed in 1.2.0.\n",
      "    Use ``imageio.imread`` instead.\n",
      "/usr/local/lib/python3.7/dist-packages/ipykernel_launcher.py:57: DeprecationWarning:     `imresize` is deprecated!\n",
      "    `imresize` is deprecated in SciPy 1.0.0, and will be removed in 1.2.0.\n",
      "    Use ``skimage.transform.resize`` instead.\n"
     ]
    },
    {
     "name": "stdout",
     "output_type": "stream",
     "text": [
      "Epoch 1/10\n",
      "17/17 [==============================] - 3095s 191s/step - loss: 1.9739 - categorical_accuracy: 0.3153 - val_loss: 1.7045 - val_categorical_accuracy: 0.1900\n",
      "\n",
      "Epoch 00001: saving model to model_init_2021-05-0408_21_58.354462/model-00001-1.66909-0.38311-1.70448-0.19000.h5\n",
      "Epoch 2/10\n",
      "17/17 [==============================] - 98s 6s/step - loss: 0.9703 - categorical_accuracy: 0.6131 - val_loss: 2.0302 - val_categorical_accuracy: 0.2600\n",
      "\n",
      "Epoch 00002: saving model to model_init_2021-05-0408_21_58.354462/model-00002-0.93730-0.62594-2.03019-0.26000.h5\n",
      "Epoch 3/10\n",
      "17/17 [==============================] - 96s 6s/step - loss: 0.7548 - categorical_accuracy: 0.7102 - val_loss: 2.9291 - val_categorical_accuracy: 0.2200\n",
      "\n",
      "Epoch 00003: saving model to model_init_2021-05-0408_21_58.354462/model-00003-0.74373-0.71644-2.92907-0.22000.h5\n",
      "Epoch 4/10\n",
      "17/17 [==============================] - 98s 6s/step - loss: 0.5814 - categorical_accuracy: 0.7840 - val_loss: 3.7238 - val_categorical_accuracy: 0.1600\n",
      "\n",
      "Epoch 00004: saving model to model_init_2021-05-0408_21_58.354462/model-00004-0.57765-0.78884-3.72384-0.16000.h5\n",
      "Epoch 5/10\n",
      "17/17 [==============================] - 98s 6s/step - loss: 0.3975 - categorical_accuracy: 0.8806 - val_loss: 4.5009 - val_categorical_accuracy: 0.1200\n",
      "\n",
      "Epoch 00005: saving model to model_init_2021-05-0408_21_58.354462/model-00005-0.42366-0.86275-4.50091-0.12000.h5\n",
      "\n",
      "Epoch 00005: ReduceLROnPlateau reducing learning rate to 0.00020000000949949026.\n",
      "Epoch 6/10\n",
      "17/17 [==============================] - 95s 6s/step - loss: 0.3165 - categorical_accuracy: 0.9065 - val_loss: 4.7398 - val_categorical_accuracy: 0.1600\n",
      "\n",
      "Epoch 00006: saving model to model_init_2021-05-0408_21_58.354462/model-00006-0.29868-0.92006-4.73976-0.16000.h5\n",
      "Epoch 7/10\n",
      "17/17 [==============================] - 98s 6s/step - loss: 0.2773 - categorical_accuracy: 0.9347 - val_loss: 4.8746 - val_categorical_accuracy: 0.1600\n",
      "\n",
      "Epoch 00007: saving model to model_init_2021-05-0408_21_58.354462/model-00007-0.25908-0.94118-4.87457-0.16000.h5\n",
      "Epoch 8/10\n",
      "17/17 [==============================] - 98s 6s/step - loss: 0.2183 - categorical_accuracy: 0.9481 - val_loss: 5.4114 - val_categorical_accuracy: 0.1500\n",
      "\n",
      "Epoch 00008: saving model to model_init_2021-05-0408_21_58.354462/model-00008-0.21511-0.95626-5.41140-0.15000.h5\n",
      "Epoch 9/10\n",
      "17/17 [==============================] - 96s 6s/step - loss: 0.1888 - categorical_accuracy: 0.9694 - val_loss: 4.7090 - val_categorical_accuracy: 0.1800\n",
      "\n",
      "Epoch 00009: saving model to model_init_2021-05-0408_21_58.354462/model-00009-0.18749-0.96380-4.70900-0.18000.h5\n",
      "\n",
      "Epoch 00009: ReduceLROnPlateau reducing learning rate to 4.0000001899898055e-05.\n",
      "Epoch 10/10\n",
      "17/17 [==============================] - 97s 6s/step - loss: 0.1819 - categorical_accuracy: 0.9566 - val_loss: 5.2006 - val_categorical_accuracy: 0.1600\n",
      "\n",
      "Epoch 00010: saving model to model_init_2021-05-0408_21_58.354462/model-00010-0.18011-0.96531-5.20062-0.16000.h5\n"
     ]
    }
   ],
   "source": [
    "print(\"Total Params:\", conv_3d1_model.count_params())\n",
    "history_model1 = conv_3d1.train_model(conv_3d1_model)"
   ]
  },
  {
   "cell_type": "code",
   "execution_count": 20,
   "metadata": {
    "colab": {
     "base_uri": "https://localhost:8080/",
     "height": 268
    },
    "id": "ZE3XsQVS2Y2G",
    "outputId": "a1535bd0-8a5f-491e-e403-a515623019de"
   },
   "outputs": [
    {
     "data": {
      "image/png": "[encoded data removed]",
      "text/plain": [
       "<Figure size 1080x288 with 2 Axes>"
      ]
     },
     "metadata": {
      "needs_background": "light",
      "tags": []
     },
     "output_type": "display_data"
    }
   ],
   "source": [
    "plot(history_model1)"
   ]
  },
  {
   "cell_type": "markdown",
   "metadata": {
    "id": "-net0-P92Y2G"
   },
   "source": [
    "##### Model is clearly overfitting. So we need to do data augmentation"
   ]
  },
  {
   "cell_type": "markdown",
   "metadata": {
    "id": "wKNtDN9H2Y2H"
   },
   "source": [
    "# Model 2 - Augment Data  (3,3,3) filter & 160x160 image resolution"
   ]
  },
  {
   "cell_type": "code",
   "execution_count": 21,
   "metadata": {
    "colab": {
     "base_uri": "https://localhost:8080/"
    },
    "id": "v_r1sMFu2Y2H",
    "outputId": "95d4df34-9d0f-4c07-9204-973b5a259521"
   },
   "outputs": [
    {
     "name": "stdout",
     "output_type": "stream",
     "text": [
      "Model: \"sequential_1\"\n",
      "_________________________________________________________________\n",
      "Layer (type)                 Output Shape              Param #   \n",
      "=================================================================\n",
      "conv3d_4 (Conv3D)            (None, 20, 160, 160, 16)  1312      \n",
      "_________________________________________________________________\n",
      "activation_4 (Activation)    (None, 20, 160, 160, 16)  0         \n",
      "_________________________________________________________________\n",
      "batch_normalization_6 (Batch (None, 20, 160, 160, 16)  64        \n",
      "_________________________________________________________________\n",
      "max_pooling3d_4 (MaxPooling3 (None, 10, 80, 80, 16)    0         \n",
      "_________________________________________________________________\n",
      "conv3d_5 (Conv3D)            (None, 10, 80, 80, 32)    13856     \n",
      "_________________________________________________________________\n",
      "activation_5 (Activation)    (None, 10, 80, 80, 32)    0         \n",
      "_________________________________________________________________\n",
      "batch_normalization_7 (Batch (None, 10, 80, 80, 32)    128       \n",
      "_________________________________________________________________\n",
      "max_pooling3d_5 (MaxPooling3 (None, 5, 40, 40, 32)     0         \n",
      "_________________________________________________________________\n",
      "conv3d_6 (Conv3D)            (None, 5, 40, 40, 64)     55360     \n",
      "_________________________________________________________________\n",
      "activation_6 (Activation)    (None, 5, 40, 40, 64)     0         \n",
      "_________________________________________________________________\n",
      "batch_normalization_8 (Batch (None, 5, 40, 40, 64)     256       \n",
      "_________________________________________________________________\n",
      "max_pooling3d_6 (MaxPooling3 (None, 2, 20, 20, 64)     0         \n",
      "_________________________________________________________________\n",
      "conv3d_7 (Conv3D)            (None, 2, 20, 20, 128)    221312    \n",
      "_________________________________________________________________\n",
      "activation_7 (Activation)    (None, 2, 20, 20, 128)    0         \n",
      "_________________________________________________________________\n",
      "batch_normalization_9 (Batch (None, 2, 20, 20, 128)    512       \n",
      "_________________________________________________________________\n",
      "max_pooling3d_7 (MaxPooling3 (None, 1, 10, 10, 128)    0         \n",
      "_________________________________________________________________\n",
      "flatten_1 (Flatten)          (None, 12800)             0         \n",
      "_________________________________________________________________\n",
      "dense_3 (Dense)              (None, 256)               3277056   \n",
      "_________________________________________________________________\n",
      "batch_normalization_10 (Batc (None, 256)               1024      \n",
      "_________________________________________________________________\n",
      "dropout_2 (Dropout)          (None, 256)               0         \n",
      "_________________________________________________________________\n",
      "dense_4 (Dense)              (None, 256)               65792     \n",
      "_________________________________________________________________\n",
      "batch_normalization_11 (Batc (None, 256)               1024      \n",
      "_________________________________________________________________\n",
      "dropout_3 (Dropout)          (None, 256)               0         \n",
      "_________________________________________________________________\n",
      "dense_5 (Dense)              (None, 5)                 1285      \n",
      "=================================================================\n",
      "Total params: 3,638,981\n",
      "Trainable params: 3,637,477\n",
      "Non-trainable params: 1,504\n",
      "_________________________________________________________________\n"
     ]
    }
   ],
   "source": [
    "conv_3d2=ModelConv3D1()\n",
    "conv_3d2.initialize_path(project_folder)\n",
    "conv_3d2.initialize_image_properties(image_height=160,image_width=160)\n",
    "conv_3d2.initialize_hyperparams(frames_to_sample=20,batch_size=20,num_epochs=25)\n",
    "conv_3d2_model=conv_3d2.define_model(dense_neurons=256,dropout=0.5)\n",
    "conv_3d2_model.summary()"
   ]
  },
  {
   "cell_type": "code",
   "execution_count": 22,
   "metadata": {
    "colab": {
     "base_uri": "https://localhost:8080/"
    },
    "id": "SKMAqQl32Y2H",
    "outputId": "a53776e6-2454-4f2a-9ac9-aa2888c12b32"
   },
   "outputs": [
    {
     "name": "stdout",
     "output_type": "stream",
     "text": [
      "Total Params: 3638981\n",
      "WARNING:tensorflow:`period` argument is deprecated. Please use `save_freq` to specify the frequency in number of batches seen.\n"
     ]
    },
    {
     "name": "stderr",
     "output_type": "stream",
     "text": [
      "/usr/local/lib/python3.7/dist-packages/tensorflow/python/keras/engine/training.py:1844: UserWarning: `Model.fit_generator` is deprecated and will be removed in a future version. Please use `Model.fit`, which supports generators.\n",
      "  warnings.warn('`Model.fit_generator` is deprecated and '\n",
      "/usr/local/lib/python3.7/dist-packages/ipykernel_launcher.py:56: DeprecationWarning:     `imread` is deprecated!\n",
      "    `imread` is deprecated in SciPy 1.0.0, and will be removed in 1.2.0.\n",
      "    Use ``imageio.imread`` instead.\n",
      "/usr/local/lib/python3.7/dist-packages/ipykernel_launcher.py:57: DeprecationWarning:     `imresize` is deprecated!\n",
      "    `imresize` is deprecated in SciPy 1.0.0, and will be removed in 1.2.0.\n",
      "    Use ``skimage.transform.resize`` instead.\n",
      "/usr/local/lib/python3.7/dist-packages/ipykernel_launcher.py:76: DeprecationWarning:     `imresize` is deprecated!\n",
      "    `imresize` is deprecated in SciPy 1.0.0, and will be removed in 1.2.0.\n",
      "    Use ``skimage.transform.resize`` instead.\n"
     ]
    },
    {
     "name": "stdout",
     "output_type": "stream",
     "text": [
      "Epoch 1/25\n",
      "34/34 [==============================] - 168s 5s/step - loss: 2.1649 - categorical_accuracy: 0.3202 - val_loss: 2.7640 - val_categorical_accuracy: 0.2100\n",
      "\n",
      "Epoch 00001: saving model to model_init_2021-05-0409_34_11.423551/model-00001-1.97313-0.35747-2.76397-0.21000.h5\n",
      "Epoch 2/25\n",
      "34/34 [==============================] - 177s 5s/step - loss: 1.3495 - categorical_accuracy: 0.5213 - val_loss: 5.1868 - val_categorical_accuracy: 0.1800\n",
      "\n",
      "Epoch 00002: saving model to model_init_2021-05-0409_34_11.423551/model-00002-1.31623-0.52640-5.18683-0.18000.h5\n",
      "Epoch 3/25\n",
      "34/34 [==============================] - 177s 5s/step - loss: 1.1610 - categorical_accuracy: 0.6051 - val_loss: 8.3837 - val_categorical_accuracy: 0.1400\n",
      "\n",
      "Epoch 00003: saving model to model_init_2021-05-0409_34_11.423551/model-00003-1.25023-0.57391-8.38374-0.14000.h5\n",
      "Epoch 4/25\n",
      "34/34 [==============================] - 162s 5s/step - loss: 1.1153 - categorical_accuracy: 0.5805 - val_loss: 7.3825 - val_categorical_accuracy: 0.2400\n",
      "\n",
      "Epoch 00004: saving model to model_init_2021-05-0409_34_11.423551/model-00004-1.13477-0.59050-7.38245-0.24000.h5\n",
      "Epoch 5/25\n",
      "34/34 [==============================] - 164s 5s/step - loss: 0.8657 - categorical_accuracy: 0.6628 - val_loss: 6.4795 - val_categorical_accuracy: 0.2500\n",
      "\n",
      "Epoch 00005: saving model to model_init_2021-05-0409_34_11.423551/model-00005-0.91963-0.66440-6.47955-0.25000.h5\n",
      "\n",
      "Epoch 00005: ReduceLROnPlateau reducing learning rate to 0.00020000000949949026.\n",
      "Epoch 6/25\n",
      "34/34 [==============================] - 163s 5s/step - loss: 0.7434 - categorical_accuracy: 0.7111 - val_loss: 6.8558 - val_categorical_accuracy: 0.2200\n",
      "\n",
      "Epoch 00006: saving model to model_init_2021-05-0409_34_11.423551/model-00006-0.80029-0.70588-6.85583-0.22000.h5\n",
      "Epoch 7/25\n",
      "34/34 [==============================] - 162s 5s/step - loss: 0.8034 - categorical_accuracy: 0.6918 - val_loss: 6.3858 - val_categorical_accuracy: 0.2300\n",
      "\n",
      "Epoch 00007: saving model to model_init_2021-05-0409_34_11.423551/model-00007-0.75288-0.71795-6.38579-0.23000.h5\n",
      "Epoch 8/25\n",
      "34/34 [==============================] - 160s 5s/step - loss: 0.6449 - categorical_accuracy: 0.7420 - val_loss: 7.1297 - val_categorical_accuracy: 0.2000\n",
      "\n",
      "Epoch 00008: saving model to model_init_2021-05-0409_34_11.423551/model-00008-0.63859-0.74887-7.12969-0.20000.h5\n",
      "Epoch 9/25\n",
      "34/34 [==============================] - 171s 5s/step - loss: 0.5753 - categorical_accuracy: 0.7670 - val_loss: 7.5475 - val_categorical_accuracy: 0.2400\n",
      "\n",
      "Epoch 00009: saving model to model_init_2021-05-0409_34_11.423551/model-00009-0.56390-0.77300-7.54747-0.24000.h5\n",
      "\n",
      "Epoch 00009: ReduceLROnPlateau reducing learning rate to 4.0000001899898055e-05.\n",
      "Epoch 10/25\n",
      "34/34 [==============================] - 186s 6s/step - loss: 0.5600 - categorical_accuracy: 0.7952 - val_loss: 6.2922 - val_categorical_accuracy: 0.2800\n",
      "\n",
      "Epoch 00010: saving model to model_init_2021-05-0409_34_11.423551/model-00010-0.56137-0.78507-6.29223-0.28000.h5\n",
      "Epoch 11/25\n",
      "34/34 [==============================] - 186s 6s/step - loss: 0.5402 - categorical_accuracy: 0.7993 - val_loss: 5.3738 - val_categorical_accuracy: 0.2700\n",
      "\n",
      "Epoch 00011: saving model to model_init_2021-05-0409_34_11.423551/model-00011-0.55110-0.79412-5.37378-0.27000.h5\n",
      "Epoch 12/25\n",
      "34/34 [==============================] - 187s 6s/step - loss: 0.5236 - categorical_accuracy: 0.7937 - val_loss: 4.5290 - val_categorical_accuracy: 0.2800\n",
      "\n",
      "Epoch 00012: saving model to model_init_2021-05-0409_34_11.423551/model-00012-0.52177-0.79563-4.52900-0.28000.h5\n",
      "Epoch 13/25\n",
      "34/34 [==============================] - 188s 6s/step - loss: 0.5787 - categorical_accuracy: 0.7804 - val_loss: 3.5906 - val_categorical_accuracy: 0.2600\n",
      "\n",
      "Epoch 00013: saving model to model_init_2021-05-0409_34_11.423551/model-00013-0.58028-0.79110-3.59064-0.26000.h5\n",
      "\n",
      "Epoch 00013: ReduceLROnPlateau reducing learning rate to 8.000000525498762e-06.\n",
      "Epoch 14/25\n",
      "34/34 [==============================] - 188s 6s/step - loss: 0.5556 - categorical_accuracy: 0.8032 - val_loss: 3.2052 - val_categorical_accuracy: 0.2500\n",
      "\n",
      "Epoch 00014: saving model to model_init_2021-05-0409_34_11.423551/model-00014-0.53617-0.80317-3.20518-0.25000.h5\n",
      "Epoch 15/25\n",
      "34/34 [==============================] - 188s 6s/step - loss: 0.4894 - categorical_accuracy: 0.7975 - val_loss: 2.2946 - val_categorical_accuracy: 0.3600\n",
      "\n",
      "Epoch 00015: saving model to model_init_2021-05-0409_34_11.423551/model-00015-0.54515-0.79110-2.29458-0.36000.h5\n",
      "Epoch 16/25\n",
      "34/34 [==============================] - 188s 6s/step - loss: 0.4709 - categorical_accuracy: 0.8339 - val_loss: 1.8304 - val_categorical_accuracy: 0.4100\n",
      "\n",
      "Epoch 00016: saving model to model_init_2021-05-0409_34_11.423551/model-00016-0.47253-0.82051-1.83039-0.41000.h5\n",
      "Epoch 17/25\n",
      "34/34 [==============================] - 187s 6s/step - loss: 0.5076 - categorical_accuracy: 0.8032 - val_loss: 1.3596 - val_categorical_accuracy: 0.5500\n",
      "\n",
      "Epoch 00017: saving model to model_init_2021-05-0409_34_11.423551/model-00017-0.54276-0.79789-1.35957-0.55000.h5\n",
      "Epoch 18/25\n",
      "34/34 [==============================] - 186s 6s/step - loss: 0.4804 - categorical_accuracy: 0.8279 - val_loss: 1.1030 - val_categorical_accuracy: 0.6700\n",
      "\n",
      "Epoch 00018: saving model to model_init_2021-05-0409_34_11.423551/model-00018-0.48206-0.83032-1.10304-0.67000.h5\n",
      "Epoch 19/25\n",
      "34/34 [==============================] - 187s 6s/step - loss: 0.6212 - categorical_accuracy: 0.7779 - val_loss: 0.9823 - val_categorical_accuracy: 0.7100\n",
      "\n",
      "Epoch 00019: saving model to model_init_2021-05-0409_34_11.423551/model-00019-0.54437-0.79487-0.98233-0.71000.h5\n",
      "Epoch 20/25\n",
      "34/34 [==============================] - 186s 6s/step - loss: 0.5249 - categorical_accuracy: 0.7925 - val_loss: 0.6542 - val_categorical_accuracy: 0.7800\n",
      "\n",
      "Epoch 00020: saving model to model_init_2021-05-0409_34_11.423551/model-00020-0.49985-0.80769-0.65420-0.78000.h5\n",
      "Epoch 21/25\n",
      "34/34 [==============================] - 188s 6s/step - loss: 0.5153 - categorical_accuracy: 0.8005 - val_loss: 0.6876 - val_categorical_accuracy: 0.7600\n",
      "\n",
      "Epoch 00021: saving model to model_init_2021-05-0409_34_11.423551/model-00021-0.47185-0.82127-0.68756-0.76000.h5\n",
      "Epoch 22/25\n",
      "34/34 [==============================] - 186s 6s/step - loss: 0.4377 - categorical_accuracy: 0.8344 - val_loss: 0.4839 - val_categorical_accuracy: 0.8200\n",
      "\n",
      "Epoch 00022: saving model to model_init_2021-05-0409_34_11.423551/model-00022-0.44518-0.83183-0.48391-0.82000.h5\n",
      "Epoch 23/25\n",
      "34/34 [==============================] - 188s 6s/step - loss: 0.5165 - categorical_accuracy: 0.8053 - val_loss: 0.6247 - val_categorical_accuracy: 0.7700\n",
      "\n",
      "Epoch 00023: saving model to model_init_2021-05-0409_34_11.423551/model-00023-0.51367-0.81146-0.62475-0.77000.h5\n",
      "Epoch 24/25\n",
      "34/34 [==============================] - 193s 6s/step - loss: 0.5458 - categorical_accuracy: 0.8007 - val_loss: 0.6771 - val_categorical_accuracy: 0.7600\n",
      "\n",
      "Epoch 00024: saving model to model_init_2021-05-0409_34_11.423551/model-00024-0.56207-0.79110-0.67710-0.76000.h5\n",
      "Epoch 25/25\n",
      "34/34 [==============================] - 192s 6s/step - loss: 0.4955 - categorical_accuracy: 0.8245 - val_loss: 0.4853 - val_categorical_accuracy: 0.8400\n",
      "\n",
      "Epoch 00025: saving model to model_init_2021-05-0409_34_11.423551/model-00025-0.47999-0.82881-0.48528-0.84000.h5\n"
     ]
    }
   ],
   "source": [
    "print(\"Total Params:\", conv_3d2_model.count_params())\n",
    "history_model2=conv_3d2.train_model(conv_3d2_model,augment_data=True)"
   ]
  },
  {
   "cell_type": "code",
   "execution_count": 23,
   "metadata": {
    "colab": {
     "base_uri": "https://localhost:8080/",
     "height": 265
    },
    "id": "sNhe_Gze2Y2H",
    "outputId": "325bf327-80e7-4371-f3da-b93af75b58c1"
   },
   "outputs": [
    {
     "data": {
      "image/png": "[encoded data removed]",
      "text/plain": [
       "<Figure size 1080x288 with 2 Axes>"
      ]
     },
     "metadata": {
      "needs_background": "light",
      "tags": []
     },
     "output_type": "display_data"
    }
   ],
   "source": [
    "plot(history_model2)"
   ]
  },
  {
   "cell_type": "markdown",
   "metadata": {
    "id": "bsufm2UY2Y2H"
   },
   "source": [
    "##### Model is not overfitting and we get a best validation accuracy of 84% and training accuracy of 82%. Next we will try using CNN-LSTM model and see if get better results. "
   ]
  },
  {
   "cell_type": "markdown",
   "metadata": {
    "id": "OfdeO6Rs2Y2Q"
   },
   "source": [
    "# Model 3 - CNN- LSTM Model"
   ]
  },
  {
   "cell_type": "code",
   "execution_count": 28,
   "metadata": {
    "collapsed": true,
    "id": "mE--ZP_32Y2Q"
   },
   "outputs": [],
   "source": [
    "class RNNCNN1(ModelBuilder):\n",
    "    \n",
    "    def define_model(self,lstm_cells=64,dense_neurons=64):\n",
    "\n",
    "        model = Sequential()\n",
    "\n",
    "        model.add(TimeDistributed(Conv2D(16, (3, 3) , padding='same', activation='relu'),\n",
    "                                  input_shape=(self.frames_to_sample,self.image_height,self.image_width,self.channels)))\n",
    "        model.add(TimeDistributed(BatchNormalization()))\n",
    "        model.add(TimeDistributed(MaxPooling2D((2, 2))))\n",
    "        \n",
    "        model.add(TimeDistributed(Conv2D(32, (3, 3) , padding='same', activation='relu')))\n",
    "        model.add(TimeDistributed(BatchNormalization()))\n",
    "        model.add(TimeDistributed(MaxPooling2D((2, 2))))\n",
    "        \n",
    "        model.add(TimeDistributed(Conv2D(64, (3, 3) , padding='same', activation='relu')))\n",
    "        model.add(TimeDistributed(BatchNormalization()))\n",
    "        model.add(TimeDistributed(MaxPooling2D((2, 2))))\n",
    "        \n",
    "        model.add(TimeDistributed(Conv2D(128, (3, 3) , padding='same', activation='relu')))\n",
    "        model.add(TimeDistributed(BatchNormalization()))\n",
    "        model.add(TimeDistributed(MaxPooling2D((2, 2))))\n",
    "        \n",
    "        model.add(TimeDistributed(Conv2D(256, (3, 3) , padding='same', activation='relu')))\n",
    "        model.add(TimeDistributed(BatchNormalization()))\n",
    "        model.add(TimeDistributed(MaxPooling2D((2, 2))))\n",
    "        \n",
    "        #model.add(TimeDistributed(Conv2D(512, (2, 2) , padding='valid', activation='relu')))\n",
    "       # model.add(TimeDistributed(BatchNormalization()))\n",
    "       # model.add(TimeDistributed(MaxPooling2D((2, 2))))\n",
    "\n",
    "        model.add(TimeDistributed(Flatten()))\n",
    "\n",
    "\n",
    "        model.add(LSTM(lstm_cells))\n",
    "        # model.add(Dropout(dropout))\n",
    "        \n",
    "        model.add(Dense(dense_neurons,activation='relu'))\n",
    "        # model.add(Dropout(dropout))\n",
    "        \n",
    "        model.add(Dense(self.num_classes, activation='softmax'))\n",
    "        optimiser = optimizers.Adam()\n",
    "        model.compile(optimizer=optimiser, loss='categorical_crossentropy', metrics=['categorical_accuracy'])\n",
    "        return model"
   ]
  },
  {
   "cell_type": "code",
   "execution_count": 29,
   "metadata": {
    "colab": {
     "base_uri": "https://localhost:8080/"
    },
    "id": "mYIQ27xA2Y2R",
    "outputId": "1b5de876-ee5b-4890-f8e0-a98daa2b5dde"
   },
   "outputs": [
    {
     "name": "stdout",
     "output_type": "stream",
     "text": [
      "Model: \"sequential_3\"\n",
      "_________________________________________________________________\n",
      "Layer (type)                 Output Shape              Param #   \n",
      "=================================================================\n",
      "time_distributed_16 (TimeDis (None, 18, 120, 120, 16)  448       \n",
      "_________________________________________________________________\n",
      "time_distributed_17 (TimeDis (None, 18, 120, 120, 16)  64        \n",
      "_________________________________________________________________\n",
      "time_distributed_18 (TimeDis (None, 18, 60, 60, 16)    0         \n",
      "_________________________________________________________________\n",
      "time_distributed_19 (TimeDis (None, 18, 60, 60, 32)    4640      \n",
      "_________________________________________________________________\n",
      "time_distributed_20 (TimeDis (None, 18, 60, 60, 32)    128       \n",
      "_________________________________________________________________\n",
      "time_distributed_21 (TimeDis (None, 18, 30, 30, 32)    0         \n",
      "_________________________________________________________________\n",
      "time_distributed_22 (TimeDis (None, 18, 30, 30, 64)    18496     \n",
      "_________________________________________________________________\n",
      "time_distributed_23 (TimeDis (None, 18, 30, 30, 64)    256       \n",
      "_________________________________________________________________\n",
      "time_distributed_24 (TimeDis (None, 18, 15, 15, 64)    0         \n",
      "_________________________________________________________________\n",
      "time_distributed_25 (TimeDis (None, 18, 15, 15, 128)   73856     \n",
      "_________________________________________________________________\n",
      "time_distributed_26 (TimeDis (None, 18, 15, 15, 128)   512       \n",
      "_________________________________________________________________\n",
      "time_distributed_27 (TimeDis (None, 18, 7, 7, 128)     0         \n",
      "_________________________________________________________________\n",
      "time_distributed_28 (TimeDis (None, 18, 7, 7, 256)     295168    \n",
      "_________________________________________________________________\n",
      "time_distributed_29 (TimeDis (None, 18, 7, 7, 256)     1024      \n",
      "_________________________________________________________________\n",
      "time_distributed_30 (TimeDis (None, 18, 3, 3, 256)     0         \n",
      "_________________________________________________________________\n",
      "time_distributed_31 (TimeDis (None, 18, 2304)          0         \n",
      "_________________________________________________________________\n",
      "lstm_1 (LSTM)                (None, 128)               1245696   \n",
      "_________________________________________________________________\n",
      "dense_8 (Dense)              (None, 128)               16512     \n",
      "_________________________________________________________________\n",
      "dense_9 (Dense)              (None, 5)                 645       \n",
      "=================================================================\n",
      "Total params: 1,657,445\n",
      "Trainable params: 1,656,453\n",
      "Non-trainable params: 992\n",
      "_________________________________________________________________\n"
     ]
    }
   ],
   "source": [
    "rnn_cnn1=RNNCNN1()\n",
    "rnn_cnn1.initialize_path(project_folder)\n",
    "rnn_cnn1.initialize_image_properties(image_height=120,image_width=120)\n",
    "rnn_cnn1.initialize_hyperparams(frames_to_sample=18,batch_size=20,num_epochs=15)\n",
    "rnn_cnn1_model=rnn_cnn1.define_model(lstm_cells=128,dense_neurons=128)\n",
    "rnn_cnn1_model.summary()"
   ]
  },
  {
   "cell_type": "code",
   "execution_count": 30,
   "metadata": {
    "colab": {
     "base_uri": "https://localhost:8080/"
    },
    "id": "lMKfBeCp2Y2R",
    "outputId": "116100b2-55aa-4fbb-f972-0f7349df281e"
   },
   "outputs": [
    {
     "name": "stdout",
     "output_type": "stream",
     "text": [
      "Total Params: 1657445\n",
      "WARNING:tensorflow:`period` argument is deprecated. Please use `save_freq` to specify the frequency in number of batches seen.\n"
     ]
    },
    {
     "name": "stderr",
     "output_type": "stream",
     "text": [
      "/usr/local/lib/python3.7/dist-packages/tensorflow/python/keras/engine/training.py:1844: UserWarning: `Model.fit_generator` is deprecated and will be removed in a future version. Please use `Model.fit`, which supports generators.\n",
      "  warnings.warn('`Model.fit_generator` is deprecated and '\n",
      "/usr/local/lib/python3.7/dist-packages/ipykernel_launcher.py:56: DeprecationWarning:     `imread` is deprecated!\n",
      "    `imread` is deprecated in SciPy 1.0.0, and will be removed in 1.2.0.\n",
      "    Use ``imageio.imread`` instead.\n",
      "/usr/local/lib/python3.7/dist-packages/ipykernel_launcher.py:57: DeprecationWarning:     `imresize` is deprecated!\n",
      "    `imresize` is deprecated in SciPy 1.0.0, and will be removed in 1.2.0.\n",
      "    Use ``skimage.transform.resize`` instead.\n",
      "/usr/local/lib/python3.7/dist-packages/ipykernel_launcher.py:76: DeprecationWarning:     `imresize` is deprecated!\n",
      "    `imresize` is deprecated in SciPy 1.0.0, and will be removed in 1.2.0.\n",
      "    Use ``skimage.transform.resize`` instead.\n"
     ]
    },
    {
     "name": "stdout",
     "output_type": "stream",
     "text": [
      "Epoch 1/15\n",
      "34/34 [==============================] - 805s 24s/step - loss: 1.4706 - categorical_accuracy: 0.3875 - val_loss: 1.7793 - val_categorical_accuracy: 0.2300\n",
      "\n",
      "Epoch 00001: saving model to model_init_2021-05-0411_24_38.213673/model-00001-1.34134-0.46606-1.77930-0.23000.h5\n",
      "Epoch 2/15\n",
      "34/34 [==============================] - 146s 4s/step - loss: 1.0901 - categorical_accuracy: 0.5520 - val_loss: 2.3145 - val_categorical_accuracy: 0.2200\n",
      "\n",
      "Epoch 00002: saving model to model_init_2021-05-0411_24_38.213673/model-00002-1.01602-0.59502-2.31453-0.22000.h5\n",
      "Epoch 3/15\n",
      "34/34 [==============================] - 143s 4s/step - loss: 0.9217 - categorical_accuracy: 0.6302 - val_loss: 2.3478 - val_categorical_accuracy: 0.2700\n",
      "\n",
      "Epoch 00003: saving model to model_init_2021-05-0411_24_38.213673/model-00003-0.89490-0.64555-2.34782-0.27000.h5\n",
      "Epoch 4/15\n",
      "34/34 [==============================] - 145s 4s/step - loss: 0.7329 - categorical_accuracy: 0.7214 - val_loss: 2.3158 - val_categorical_accuracy: 0.1900\n",
      "\n",
      "Epoch 00004: saving model to model_init_2021-05-0411_24_38.213673/model-00004-0.73147-0.71870-2.31583-0.19000.h5\n",
      "Epoch 5/15\n",
      "34/34 [==============================] - 143s 4s/step - loss: 0.5892 - categorical_accuracy: 0.7677 - val_loss: 3.0166 - val_categorical_accuracy: 0.2400\n",
      "\n",
      "Epoch 00005: saving model to model_init_2021-05-0411_24_38.213673/model-00005-0.58598-0.77828-3.01659-0.24000.h5\n",
      "\n",
      "Epoch 00005: ReduceLROnPlateau reducing learning rate to 0.00020000000949949026.\n",
      "Epoch 6/15\n",
      "34/34 [==============================] - 145s 4s/step - loss: 0.4611 - categorical_accuracy: 0.8394 - val_loss: 2.6236 - val_categorical_accuracy: 0.2100\n",
      "\n",
      "Epoch 00006: saving model to model_init_2021-05-0411_24_38.213673/model-00006-0.37526-0.87557-2.62359-0.21000.h5\n",
      "Epoch 7/15\n",
      "34/34 [==============================] - 147s 4s/step - loss: 0.2950 - categorical_accuracy: 0.9037 - val_loss: 2.3342 - val_categorical_accuracy: 0.2900\n",
      "\n",
      "Epoch 00007: saving model to model_init_2021-05-0411_24_38.213673/model-00007-0.27898-0.91327-2.33421-0.29000.h5\n",
      "Epoch 8/15\n",
      "34/34 [==============================] - 152s 5s/step - loss: 0.2491 - categorical_accuracy: 0.9156 - val_loss: 2.4425 - val_categorical_accuracy: 0.2100\n",
      "\n",
      "Epoch 00008: saving model to model_init_2021-05-0411_24_38.213673/model-00008-0.25092-0.91931-2.44246-0.21000.h5\n",
      "Epoch 9/15\n",
      "34/34 [==============================] - 146s 4s/step - loss: 0.1958 - categorical_accuracy: 0.9470 - val_loss: 2.4171 - val_categorical_accuracy: 0.2800\n",
      "\n",
      "Epoch 00009: saving model to model_init_2021-05-0411_24_38.213673/model-00009-0.18958-0.94872-2.41709-0.28000.h5\n",
      "\n",
      "Epoch 00009: ReduceLROnPlateau reducing learning rate to 4.0000001899898055e-05.\n",
      "Epoch 10/15\n",
      "34/34 [==============================] - 143s 4s/step - loss: 0.1531 - categorical_accuracy: 0.9643 - val_loss: 2.4686 - val_categorical_accuracy: 0.3200\n",
      "\n",
      "Epoch 00010: saving model to model_init_2021-05-0411_24_38.213673/model-00010-0.15365-0.96305-2.46855-0.32000.h5\n",
      "Epoch 11/15\n",
      "34/34 [==============================] - 141s 4s/step - loss: 0.1429 - categorical_accuracy: 0.9610 - val_loss: 2.2507 - val_categorical_accuracy: 0.3200\n",
      "\n",
      "Epoch 00011: saving model to model_init_2021-05-0411_24_38.213673/model-00011-0.13947-0.96757-2.25070-0.32000.h5\n",
      "Epoch 12/15\n",
      "34/34 [==============================] - 143s 4s/step - loss: 0.1477 - categorical_accuracy: 0.9601 - val_loss: 2.0995 - val_categorical_accuracy: 0.3300\n",
      "\n",
      "Epoch 00012: saving model to model_init_2021-05-0411_24_38.213673/model-00012-0.14798-0.96305-2.09955-0.33000.h5\n",
      "Epoch 13/15\n",
      "34/34 [==============================] - 143s 4s/step - loss: 0.1399 - categorical_accuracy: 0.9627 - val_loss: 1.8639 - val_categorical_accuracy: 0.3900\n",
      "\n",
      "Epoch 00013: saving model to model_init_2021-05-0411_24_38.213673/model-00013-0.12872-0.97210-1.86390-0.39000.h5\n",
      "\n",
      "Epoch 00013: ReduceLROnPlateau reducing learning rate to 8.000000525498762e-06.\n",
      "Epoch 14/15\n",
      "34/34 [==============================] - 140s 4s/step - loss: 0.1174 - categorical_accuracy: 0.9754 - val_loss: 1.5600 - val_categorical_accuracy: 0.4400\n",
      "\n",
      "Epoch 00014: saving model to model_init_2021-05-0411_24_38.213673/model-00014-0.12807-0.96682-1.56001-0.44000.h5\n",
      "Epoch 15/15\n",
      "34/34 [==============================] - 139s 4s/step - loss: 0.1201 - categorical_accuracy: 0.9785 - val_loss: 1.2768 - val_categorical_accuracy: 0.5500\n",
      "\n",
      "Epoch 00015: saving model to model_init_2021-05-0411_24_38.213673/model-00015-0.11886-0.97360-1.27681-0.55000.h5\n"
     ]
    }
   ],
   "source": [
    "print(\"Total Params:\", rnn_cnn1_model.count_params())\n",
    "history_model9=rnn_cnn1.train_model(rnn_cnn1_model,augment_data=True)"
   ]
  },
  {
   "cell_type": "code",
   "execution_count": 31,
   "metadata": {
    "colab": {
     "base_uri": "https://localhost:8080/",
     "height": 266
    },
    "id": "VFNYinkO2Y2R",
    "outputId": "5d56ca56-19dd-48a0-b34d-cd6538f864bf"
   },
   "outputs": [
    {
     "data": {
      "image/png": "[encoded data removed]",
      "text/plain": [
       "<Figure size 1080x288 with 2 Axes>"
      ]
     },
     "metadata": {
      "needs_background": "light",
      "tags": []
     },
     "output_type": "display_data"
    }
   ],
   "source": [
    "plot(history_model9)"
   ]
  },
  {
   "cell_type": "markdown",
   "metadata": {
    "collapsed": true,
    "id": "wFA6UBzq2Y2S"
   },
   "source": [
    "##### For CNN - LSTM model we get a best validation accuracy of 60% with 15 epochs. But due to run-time constraints, epochs are restricted to 15 and we can observe the validation accuracy is improving after 10th epoch. Let's try with LSTM-GRU model and check whether model improves"
   ]
  },
  {
   "cell_type": "markdown",
   "metadata": {
    "id": "xjppqeK-2Y2b"
   },
   "source": [
    "# Model 4 - CNN LSTM with GRU "
   ]
  },
  {
   "cell_type": "code",
   "execution_count": 32,
   "metadata": {
    "collapsed": true,
    "id": "5ah06Fgq2Y2c"
   },
   "outputs": [],
   "source": [
    "class RNNCNN2(ModelBuilder):\n",
    "    \n",
    "    def define_model(self,lstm_cells=64,dense_neurons=64):\n",
    "\n",
    "        model = Sequential()\n",
    "\n",
    "        model.add(TimeDistributed(Conv2D(16, (3, 3) , padding='same', activation='relu'),\n",
    "                                  input_shape=(self.frames_to_sample,self.image_height,self.image_width,self.channels)))\n",
    "        model.add(TimeDistributed(BatchNormalization()))\n",
    "        model.add(TimeDistributed(MaxPooling2D((2, 2))))\n",
    "        \n",
    "        model.add(TimeDistributed(Conv2D(32, (3, 3) , padding='same', activation='relu')))\n",
    "        model.add(TimeDistributed(BatchNormalization()))\n",
    "        model.add(TimeDistributed(MaxPooling2D((2, 2))))\n",
    "        \n",
    "        model.add(TimeDistributed(Conv2D(64, (3, 3) , padding='same', activation='relu')))\n",
    "        model.add(TimeDistributed(BatchNormalization()))\n",
    "        model.add(TimeDistributed(MaxPooling2D((2, 2))))\n",
    "        \n",
    "        model.add(TimeDistributed(Conv2D(128, (3, 3) , padding='same', activation='relu')))\n",
    "        model.add(TimeDistributed(BatchNormalization()))\n",
    "        model.add(TimeDistributed(MaxPooling2D((2, 2))))\n",
    "        \n",
    "\n",
    "        model.add(TimeDistributed(Flatten()))\n",
    "\n",
    "\n",
    "        model.add(GRU(lstm_cells))\n",
    "        # model.add(Dropout(dropout))\n",
    "        \n",
    "        model.add(Dense(dense_neurons,activation='relu'))\n",
    "        # model.add(Dropout(dropout))\n",
    "        \n",
    "        model.add(Dense(self.num_classes, activation='softmax'))\n",
    "        optimiser = optimizers.Adam(lr=0.0002)\n",
    "        model.compile(optimizer=optimiser, loss='categorical_crossentropy', metrics=['categorical_accuracy'])\n",
    "        return model"
   ]
  },
  {
   "cell_type": "code",
   "execution_count": 33,
   "metadata": {
    "colab": {
     "base_uri": "https://localhost:8080/"
    },
    "id": "mDVdpzA22Y2c",
    "outputId": "5091de8f-3858-492a-a6cb-bfb2e36317a2"
   },
   "outputs": [
    {
     "name": "stdout",
     "output_type": "stream",
     "text": [
      "Model: \"sequential_4\"\n",
      "_________________________________________________________________\n",
      "Layer (type)                 Output Shape              Param #   \n",
      "=================================================================\n",
      "time_distributed_32 (TimeDis (None, 18, 120, 120, 16)  448       \n",
      "_________________________________________________________________\n",
      "time_distributed_33 (TimeDis (None, 18, 120, 120, 16)  64        \n",
      "_________________________________________________________________\n",
      "time_distributed_34 (TimeDis (None, 18, 60, 60, 16)    0         \n",
      "_________________________________________________________________\n",
      "time_distributed_35 (TimeDis (None, 18, 60, 60, 32)    4640      \n",
      "_________________________________________________________________\n",
      "time_distributed_36 (TimeDis (None, 18, 60, 60, 32)    128       \n",
      "_________________________________________________________________\n",
      "time_distributed_37 (TimeDis (None, 18, 30, 30, 32)    0         \n",
      "_________________________________________________________________\n",
      "time_distributed_38 (TimeDis (None, 18, 30, 30, 64)    18496     \n",
      "_________________________________________________________________\n",
      "time_distributed_39 (TimeDis (None, 18, 30, 30, 64)    256       \n",
      "_________________________________________________________________\n",
      "time_distributed_40 (TimeDis (None, 18, 15, 15, 64)    0         \n",
      "_________________________________________________________________\n",
      "time_distributed_41 (TimeDis (None, 18, 15, 15, 128)   73856     \n",
      "_________________________________________________________________\n",
      "time_distributed_42 (TimeDis (None, 18, 15, 15, 128)   512       \n",
      "_________________________________________________________________\n",
      "time_distributed_43 (TimeDis (None, 18, 7, 7, 128)     0         \n",
      "_________________________________________________________________\n",
      "time_distributed_44 (TimeDis (None, 18, 6272)          0         \n",
      "_________________________________________________________________\n",
      "gru (GRU)                    (None, 128)               2458368   \n",
      "_________________________________________________________________\n",
      "dense_10 (Dense)             (None, 128)               16512     \n",
      "_________________________________________________________________\n",
      "dense_11 (Dense)             (None, 5)                 645       \n",
      "=================================================================\n",
      "Total params: 2,573,925\n",
      "Trainable params: 2,573,445\n",
      "Non-trainable params: 480\n",
      "_________________________________________________________________\n"
     ]
    }
   ],
   "source": [
    "rnn_cnn2=RNNCNN2()\n",
    "rnn_cnn2.initialize_path(project_folder)\n",
    "rnn_cnn2.initialize_image_properties(image_height=120,image_width=120)\n",
    "rnn_cnn2.initialize_hyperparams(frames_to_sample=18,batch_size=20,num_epochs=15)\n",
    "rnn_cnn2_model=rnn_cnn2.define_model(lstm_cells=128,dense_neurons=128)\n",
    "rnn_cnn2_model.summary()"
   ]
  },
  {
   "cell_type": "code",
   "execution_count": 35,
   "metadata": {
    "colab": {
     "base_uri": "https://localhost:8080/"
    },
    "id": "0_BckxOi2Y2c",
    "outputId": "aa53fc78-7b6b-4adb-c7f2-1ff2b825e0c5"
   },
   "outputs": [
    {
     "name": "stdout",
     "output_type": "stream",
     "text": [
      "Total Params: 2573925\n",
      "WARNING:tensorflow:`period` argument is deprecated. Please use `save_freq` to specify the frequency in number of batches seen.\n"
     ]
    },
    {
     "name": "stderr",
     "output_type": "stream",
     "text": [
      "/usr/local/lib/python3.7/dist-packages/tensorflow/python/keras/engine/training.py:1844: UserWarning: `Model.fit_generator` is deprecated and will be removed in a future version. Please use `Model.fit`, which supports generators.\n",
      "  warnings.warn('`Model.fit_generator` is deprecated and '\n",
      "/usr/local/lib/python3.7/dist-packages/ipykernel_launcher.py:56: DeprecationWarning:     `imread` is deprecated!\n",
      "    `imread` is deprecated in SciPy 1.0.0, and will be removed in 1.2.0.\n",
      "    Use ``imageio.imread`` instead.\n",
      "/usr/local/lib/python3.7/dist-packages/ipykernel_launcher.py:57: DeprecationWarning:     `imresize` is deprecated!\n",
      "    `imresize` is deprecated in SciPy 1.0.0, and will be removed in 1.2.0.\n",
      "    Use ``skimage.transform.resize`` instead.\n",
      "/usr/local/lib/python3.7/dist-packages/ipykernel_launcher.py:76: DeprecationWarning:     `imresize` is deprecated!\n",
      "    `imresize` is deprecated in SciPy 1.0.0, and will be removed in 1.2.0.\n",
      "    Use ``skimage.transform.resize`` instead.\n"
     ]
    },
    {
     "name": "stdout",
     "output_type": "stream",
     "text": [
      "Epoch 1/15\n",
      "34/34 [==============================] - 141s 4s/step - loss: 0.1012 - categorical_accuracy: 0.9887 - val_loss: 1.2339 - val_categorical_accuracy: 0.6000\n",
      "\n",
      "Epoch 00001: saving model to model_init_2021-05-0412_50_02.318331/model-00001-0.10122-0.98869-1.23393-0.60000.h5\n",
      "Epoch 2/15\n",
      "34/34 [==============================] - 141s 4s/step - loss: 0.1011 - categorical_accuracy: 0.9872 - val_loss: 1.0634 - val_categorical_accuracy: 0.6000\n",
      "\n",
      "Epoch 00002: saving model to model_init_2021-05-0412_50_02.318331/model-00002-0.10115-0.98718-1.06343-0.60000.h5\n",
      "Epoch 3/15\n",
      "34/34 [==============================] - 141s 4s/step - loss: 0.0965 - categorical_accuracy: 0.9894 - val_loss: 0.7240 - val_categorical_accuracy: 0.7700\n",
      "\n",
      "Epoch 00003: saving model to model_init_2021-05-0412_50_02.318331/model-00003-0.09650-0.98944-0.72401-0.77000.h5\n",
      "Epoch 4/15\n",
      "34/34 [==============================] - 143s 4s/step - loss: 0.1038 - categorical_accuracy: 0.9864 - val_loss: 0.7828 - val_categorical_accuracy: 0.7500\n",
      "\n",
      "Epoch 00004: saving model to model_init_2021-05-0412_50_02.318331/model-00004-0.10383-0.98643-0.78279-0.75000.h5\n",
      "Epoch 5/15\n",
      "34/34 [==============================] - 142s 4s/step - loss: 0.1072 - categorical_accuracy: 0.9872 - val_loss: 0.7041 - val_categorical_accuracy: 0.7500\n",
      "\n",
      "Epoch 00005: saving model to model_init_2021-05-0412_50_02.318331/model-00005-0.10719-0.98718-0.70413-0.75000.h5\n",
      "Epoch 6/15\n",
      "34/34 [==============================] - 141s 4s/step - loss: 0.1048 - categorical_accuracy: 0.9910 - val_loss: 0.7004 - val_categorical_accuracy: 0.7400\n",
      "\n",
      "Epoch 00006: saving model to model_init_2021-05-0412_50_02.318331/model-00006-0.10476-0.99095-0.70043-0.74000.h5\n",
      "Epoch 7/15\n",
      "34/34 [==============================] - 144s 4s/step - loss: 0.1017 - categorical_accuracy: 0.9864 - val_loss: 0.7409 - val_categorical_accuracy: 0.7400\n",
      "\n",
      "Epoch 00007: saving model to model_init_2021-05-0412_50_02.318331/model-00007-0.10167-0.98643-0.74095-0.74000.h5\n",
      "Epoch 8/15\n",
      "34/34 [==============================] - 151s 5s/step - loss: 0.0991 - categorical_accuracy: 0.9894 - val_loss: 0.7042 - val_categorical_accuracy: 0.7200\n",
      "\n",
      "Epoch 00008: saving model to model_init_2021-05-0412_50_02.318331/model-00008-0.09913-0.98944-0.70419-0.72000.h5\n",
      "Epoch 9/15\n",
      "34/34 [==============================] - 150s 5s/step - loss: 0.1001 - categorical_accuracy: 0.9917 - val_loss: 0.7025 - val_categorical_accuracy: 0.7300\n",
      "\n",
      "Epoch 00009: saving model to model_init_2021-05-0412_50_02.318331/model-00009-0.10010-0.99170-0.70253-0.73000.h5\n",
      "Epoch 10/15\n",
      "34/34 [==============================] - 143s 4s/step - loss: 0.1018 - categorical_accuracy: 0.9887 - val_loss: 0.6883 - val_categorical_accuracy: 0.7500\n",
      "\n",
      "Epoch 00010: saving model to model_init_2021-05-0412_50_02.318331/model-00010-0.10184-0.98869-0.68829-0.75000.h5\n",
      "Epoch 11/15\n",
      "34/34 [==============================] - 140s 4s/step - loss: 0.0976 - categorical_accuracy: 0.9887 - val_loss: 0.6850 - val_categorical_accuracy: 0.7500\n",
      "\n",
      "Epoch 00011: saving model to model_init_2021-05-0412_50_02.318331/model-00011-0.09762-0.98869-0.68503-0.75000.h5\n",
      "Epoch 12/15\n",
      "34/34 [==============================] - 143s 4s/step - loss: 0.0957 - categorical_accuracy: 0.9910 - val_loss: 0.6969 - val_categorical_accuracy: 0.7400\n",
      "\n",
      "Epoch 00012: saving model to model_init_2021-05-0412_50_02.318331/model-00012-0.09568-0.99095-0.69690-0.74000.h5\n",
      "Epoch 13/15\n",
      "34/34 [==============================] - 140s 4s/step - loss: 0.1010 - categorical_accuracy: 0.9902 - val_loss: 0.7134 - val_categorical_accuracy: 0.6900\n",
      "\n",
      "Epoch 00013: saving model to model_init_2021-05-0412_50_02.318331/model-00013-0.10101-0.99020-0.71338-0.69000.h5\n",
      "Epoch 14/15\n",
      "34/34 [==============================] - 139s 4s/step - loss: 0.0990 - categorical_accuracy: 0.9902 - val_loss: 0.6727 - val_categorical_accuracy: 0.7500\n",
      "\n",
      "Epoch 00014: saving model to model_init_2021-05-0412_50_02.318331/model-00014-0.09900-0.99020-0.67270-0.75000.h5\n",
      "Epoch 15/15\n",
      "34/34 [==============================] - 138s 4s/step - loss: 0.0959 - categorical_accuracy: 0.9872 - val_loss: 0.7003 - val_categorical_accuracy: 0.7300\n",
      "\n",
      "Epoch 00015: saving model to model_init_2021-05-0412_50_02.318331/model-00015-0.09591-0.98718-0.70031-0.73000.h5\n"
     ]
    }
   ],
   "source": [
    "print(\"Total Params:\", rnn_cnn2_model.count_params())\n",
    "history_model17=rnn_cnn2.train_model(rnn_cnn2_model,augment_data=True)"
   ]
  },
  {
   "cell_type": "code",
   "execution_count": 36,
   "metadata": {
    "colab": {
     "base_uri": "https://localhost:8080/",
     "height": 265
    },
    "id": "Lb6D-mkV2Y2d",
    "outputId": "d71cb8dd-f01b-4554-9866-799245250777"
   },
   "outputs": [
    {
     "data": {
      "image/png": "[encoded data removed]",
      "text/plain": [
       "<Figure size 1080x288 with 2 Axes>"
      ]
     },
     "metadata": {
      "needs_background": "light",
      "tags": []
     },
     "output_type": "display_data"
    }
   ],
   "source": [
    "plot(history_model17)"
   ]
  },
  {
   "cell_type": "markdown",
   "metadata": {
    "collapsed": true,
    "id": "7UikhISH2Y2d"
   },
   "source": [
    "#### Here in case, the training acc is over 98% and validation accuracies are deviating around 70-75% at the end of epoch-15"
   ]
  },
  {
   "cell_type": "markdown",
   "metadata": {
    "collapsed": true,
    "id": "4J1aXe-p2Y2d"
   },
   "source": [
    "# Model 18 - Transfer Learning with LSTM"
   ]
  },
  {
   "cell_type": "code",
   "execution_count": 37,
   "metadata": {
    "collapsed": true,
    "id": "53wYSKDl2Y2d"
   },
   "outputs": [],
   "source": [
    "from keras.applications import mobilenet"
   ]
  },
  {
   "cell_type": "code",
   "execution_count": 38,
   "metadata": {
    "colab": {
     "base_uri": "https://localhost:8080/"
    },
    "id": "fyEjKKk22Y2e",
    "outputId": "5ae4c624-3de7-4b34-ed5c-cee26139ca53"
   },
   "outputs": [
    {
     "name": "stdout",
     "output_type": "stream",
     "text": [
      "WARNING:tensorflow:`input_shape` is undefined or non-square, or `rows` is not in [128, 160, 192, 224]. Weights for input shape (224, 224) will be loaded as the default.\n",
      "Downloading data from https://storage.googleapis.com/tensorflow/keras-applications/mobilenet/mobilenet_1_0_224_tf_no_top.h5\n",
      "17227776/17225924 [==============================] - 0s 0us/step\n"
     ]
    }
   ],
   "source": [
    "mobilenet_transfer = mobilenet.MobileNet(weights='imagenet', include_top=False)\n",
    "\n",
    "class RNNCNN_TL(ModelBuilder):\n",
    "    \n",
    "    def define_model(self,lstm_cells=64,dense_neurons=64,dropout=0.25):\n",
    "        \n",
    "        model = Sequential()\n",
    "        model.add(TimeDistributed(mobilenet_transfer,input_shape=(self.frames_to_sample,self.image_height,self.image_width,self.channels)))\n",
    "        \n",
    "        \n",
    "        for layer in model.layers:\n",
    "            layer.trainable = False\n",
    "        \n",
    "        \n",
    "        model.add(TimeDistributed(BatchNormalization()))\n",
    "        model.add(TimeDistributed(MaxPooling2D((2, 2))))\n",
    "        model.add(TimeDistributed(Flatten()))\n",
    "\n",
    "        model.add(LSTM(lstm_cells))\n",
    "        # model.add(Dropout(dropout))\n",
    "        \n",
    "        model.add(Dense(dense_neurons,activation='relu'))\n",
    "        # model.add(Dropout(dropout))\n",
    "        \n",
    "        model.add(Dense(self.num_classes, activation='softmax'))\n",
    "        \n",
    "        \n",
    "        optimiser = optimizers.Adam()\n",
    "        model.compile(optimizer=optimiser, loss='categorical_crossentropy', metrics=['categorical_accuracy'])\n",
    "        return model"
   ]
  },
  {
   "cell_type": "code",
   "execution_count": 39,
   "metadata": {
    "colab": {
     "base_uri": "https://localhost:8080/"
    },
    "id": "Plfuig112Y2e",
    "outputId": "31f89d73-4e4f-4139-9320-2e187b488b78"
   },
   "outputs": [
    {
     "name": "stdout",
     "output_type": "stream",
     "text": [
      "Model: \"sequential_5\"\n",
      "_________________________________________________________________\n",
      "Layer (type)                 Output Shape              Param #   \n",
      "=================================================================\n",
      "time_distributed_45 (TimeDis (None, 16, 3, 3, 1024)    3228864   \n",
      "_________________________________________________________________\n",
      "time_distributed_46 (TimeDis (None, 16, 3, 3, 1024)    4096      \n",
      "_________________________________________________________________\n",
      "time_distributed_47 (TimeDis (None, 16, 1, 1, 1024)    0         \n",
      "_________________________________________________________________\n",
      "time_distributed_48 (TimeDis (None, 16, 1024)          0         \n",
      "_________________________________________________________________\n",
      "lstm_2 (LSTM)                (None, 128)               590336    \n",
      "_________________________________________________________________\n",
      "dense_12 (Dense)             (None, 128)               16512     \n",
      "_________________________________________________________________\n",
      "dense_13 (Dense)             (None, 5)                 645       \n",
      "=================================================================\n",
      "Total params: 3,840,453\n",
      "Trainable params: 609,541\n",
      "Non-trainable params: 3,230,912\n",
      "_________________________________________________________________\n"
     ]
    }
   ],
   "source": [
    "rnn_cnn_tl=RNNCNN_TL()\n",
    "rnn_cnn_tl.initialize_path(project_folder)\n",
    "rnn_cnn_tl.initialize_image_properties(image_height=120,image_width=120)\n",
    "rnn_cnn_tl.initialize_hyperparams(frames_to_sample=16,batch_size=5,num_epochs=15)\n",
    "rnn_cnn_tl_model=rnn_cnn_tl.define_model(lstm_cells=128,dense_neurons=128)\n",
    "rnn_cnn_tl_model.summary()"
   ]
  },
  {
   "cell_type": "code",
   "execution_count": 40,
   "metadata": {
    "colab": {
     "base_uri": "https://localhost:8080/"
    },
    "id": "tYk390g92Y2e",
    "outputId": "ad000877-6e02-4be2-e42e-264d536d8dcc"
   },
   "outputs": [
    {
     "name": "stdout",
     "output_type": "stream",
     "text": [
      "Total Params: 3840453\n",
      "WARNING:tensorflow:`period` argument is deprecated. Please use `save_freq` to specify the frequency in number of batches seen.\n"
     ]
    },
    {
     "name": "stderr",
     "output_type": "stream",
     "text": [
      "/usr/local/lib/python3.7/dist-packages/tensorflow/python/keras/engine/training.py:1844: UserWarning: `Model.fit_generator` is deprecated and will be removed in a future version. Please use `Model.fit`, which supports generators.\n",
      "  warnings.warn('`Model.fit_generator` is deprecated and '\n",
      "/usr/local/lib/python3.7/dist-packages/ipykernel_launcher.py:56: DeprecationWarning:     `imread` is deprecated!\n",
      "    `imread` is deprecated in SciPy 1.0.0, and will be removed in 1.2.0.\n",
      "    Use ``imageio.imread`` instead.\n",
      "/usr/local/lib/python3.7/dist-packages/ipykernel_launcher.py:57: DeprecationWarning:     `imresize` is deprecated!\n",
      "    `imresize` is deprecated in SciPy 1.0.0, and will be removed in 1.2.0.\n",
      "    Use ``skimage.transform.resize`` instead.\n",
      "/usr/local/lib/python3.7/dist-packages/ipykernel_launcher.py:76: DeprecationWarning:     `imresize` is deprecated!\n",
      "    `imresize` is deprecated in SciPy 1.0.0, and will be removed in 1.2.0.\n",
      "    Use ``skimage.transform.resize`` instead.\n"
     ]
    },
    {
     "name": "stdout",
     "output_type": "stream",
     "text": [
      "Epoch 1/15\n",
      "133/133 [==============================] - 512s 4s/step - loss: 1.4108 - categorical_accuracy: 0.3667 - val_loss: 0.8075 - val_categorical_accuracy: 0.7100\n",
      "\n",
      "Epoch 00001: saving model to model_init_2021-05-0413_27_03.743193/model-00001-1.21274-0.48944-0.80750-0.71000.h5\n",
      "Epoch 2/15\n",
      "133/133 [==============================] - 127s 959ms/step - loss: 0.7110 - categorical_accuracy: 0.7532 - val_loss: 0.6890 - val_categorical_accuracy: 0.7100\n",
      "\n",
      "Epoch 00002: saving model to model_init_2021-05-0413_27_03.743193/model-00002-0.66201-0.75264-0.68896-0.71000.h5\n",
      "Epoch 3/15\n",
      "133/133 [==============================] - 127s 962ms/step - loss: 0.4283 - categorical_accuracy: 0.8522 - val_loss: 0.6366 - val_categorical_accuracy: 0.7600\n",
      "\n",
      "Epoch 00003: saving model to model_init_2021-05-0413_27_03.743193/model-00003-0.40819-0.86048-0.63657-0.76000.h5\n",
      "Epoch 4/15\n",
      "133/133 [==============================] - 128s 968ms/step - loss: 0.2361 - categorical_accuracy: 0.9288 - val_loss: 0.7420 - val_categorical_accuracy: 0.7000\n",
      "\n",
      "Epoch 00004: saving model to model_init_2021-05-0413_27_03.743193/model-00004-0.22315-0.92685-0.74205-0.70000.h5\n",
      "Epoch 5/15\n",
      "133/133 [==============================] - 127s 960ms/step - loss: 0.1778 - categorical_accuracy: 0.9444 - val_loss: 0.7315 - val_categorical_accuracy: 0.7400\n",
      "\n",
      "Epoch 00005: saving model to model_init_2021-05-0413_27_03.743193/model-00005-0.21376-0.92836-0.73154-0.74000.h5\n",
      "Epoch 6/15\n",
      "133/133 [==============================] - 128s 969ms/step - loss: 0.1384 - categorical_accuracy: 0.9515 - val_loss: 0.8876 - val_categorical_accuracy: 0.7400\n",
      "\n",
      "Epoch 00006: saving model to model_init_2021-05-0413_27_03.743193/model-00006-0.13973-0.95173-0.88757-0.74000.h5\n",
      "Epoch 7/15\n",
      "133/133 [==============================] - 125s 945ms/step - loss: 0.1065 - categorical_accuracy: 0.9643 - val_loss: 0.7159 - val_categorical_accuracy: 0.7300\n",
      "\n",
      "Epoch 00007: saving model to model_init_2021-05-0413_27_03.743193/model-00007-0.11537-0.95928-0.71586-0.73000.h5\n",
      "\n",
      "Epoch 00007: ReduceLROnPlateau reducing learning rate to 0.00020000000949949026.\n",
      "Epoch 8/15\n",
      "133/133 [==============================] - 127s 964ms/step - loss: 0.0614 - categorical_accuracy: 0.9816 - val_loss: 0.8435 - val_categorical_accuracy: 0.7300\n",
      "\n",
      "Epoch 00008: saving model to model_init_2021-05-0413_27_03.743193/model-00008-0.05727-0.98341-0.84350-0.73000.h5\n",
      "Epoch 9/15\n",
      "133/133 [==============================] - 128s 968ms/step - loss: 0.0579 - categorical_accuracy: 0.9848 - val_loss: 0.4706 - val_categorical_accuracy: 0.8000\n",
      "\n",
      "Epoch 00009: saving model to model_init_2021-05-0413_27_03.743193/model-00009-0.04640-0.98869-0.47058-0.80000.h5\n",
      "Epoch 10/15\n",
      "133/133 [==============================] - 128s 968ms/step - loss: 0.0315 - categorical_accuracy: 0.9904 - val_loss: 0.7033 - val_categorical_accuracy: 0.7700\n",
      "\n",
      "Epoch 00010: saving model to model_init_2021-05-0413_27_03.743193/model-00010-0.03750-0.98869-0.70334-0.77000.h5\n",
      "Epoch 11/15\n",
      "133/133 [==============================] - 127s 958ms/step - loss: 0.0262 - categorical_accuracy: 0.9931 - val_loss: 0.8896 - val_categorical_accuracy: 0.7000\n",
      "\n",
      "Epoch 00011: saving model to model_init_2021-05-0413_27_03.743193/model-00011-0.02684-0.99095-0.88965-0.70000.h5\n",
      "Epoch 12/15\n",
      "133/133 [==============================] - 127s 963ms/step - loss: 0.0187 - categorical_accuracy: 0.9974 - val_loss: 0.5932 - val_categorical_accuracy: 0.8100\n",
      "\n",
      "Epoch 00012: saving model to model_init_2021-05-0413_27_03.743193/model-00012-0.02411-0.99472-0.59318-0.81000.h5\n",
      "Epoch 13/15\n",
      "133/133 [==============================] - 127s 959ms/step - loss: 0.0373 - categorical_accuracy: 0.9860 - val_loss: 0.7695 - val_categorical_accuracy: 0.7300\n",
      "\n",
      "Epoch 00013: saving model to model_init_2021-05-0413_27_03.743193/model-00013-0.03067-0.99020-0.76949-0.73000.h5\n",
      "\n",
      "Epoch 00013: ReduceLROnPlateau reducing learning rate to 4.0000001899898055e-05.\n",
      "Epoch 14/15\n",
      "133/133 [==============================] - 128s 967ms/step - loss: 0.0234 - categorical_accuracy: 0.9943 - val_loss: 0.8129 - val_categorical_accuracy: 0.7500\n",
      "\n",
      "Epoch 00014: saving model to model_init_2021-05-0413_27_03.743193/model-00014-0.02508-0.99321-0.81292-0.75000.h5\n",
      "Epoch 15/15\n",
      "133/133 [==============================] - 127s 962ms/step - loss: 0.0157 - categorical_accuracy: 0.9957 - val_loss: 0.7455 - val_categorical_accuracy: 0.6900\n",
      "\n",
      "Epoch 00015: saving model to model_init_2021-05-0413_27_03.743193/model-00015-0.01641-0.99623-0.74551-0.69000.h5\n"
     ]
    }
   ],
   "source": [
    "print(\"Total Params:\", rnn_cnn_tl_model.count_params())\n",
    "history_model18=rnn_cnn_tl.train_model(rnn_cnn_tl_model,augment_data=True)"
   ]
  },
  {
   "cell_type": "code",
   "execution_count": 41,
   "metadata": {
    "colab": {
     "base_uri": "https://localhost:8080/",
     "height": 265
    },
    "id": "XKj3-J-12Y2e",
    "outputId": "a31f9c7b-1fa1-4796-e0cd-4d9a6e080b07"
   },
   "outputs": [
    {
     "data": {
      "image/png": "[encoded data removed]",
      "text/plain": [
       "<Figure size 1080x288 with 2 Axes>"
      ]
     },
     "metadata": {
      "needs_background": "light",
      "tags": []
     },
     "output_type": "display_data"
    }
   ],
   "source": [
    "plot(history_model18)"
   ]
  },
  {
   "cell_type": "markdown",
   "metadata": {
    "collapsed": true,
    "id": "_ogLajG-2Y2f"
   },
   "source": [
    "##### We are not training the mobilenet weights and we see validation accuracy is very poor. Let's train them as well and observe if there is performance improvement"
   ]
  },
  {
   "cell_type": "markdown",
   "metadata": {
    "id": "n6e5qjzR2Y2f"
   },
   "source": [
    "# Model 19 - Transfer Learning with GRU and training all weights"
   ]
  },
  {
   "cell_type": "code",
   "execution_count": 42,
   "metadata": {
    "colab": {
     "base_uri": "https://localhost:8080/"
    },
    "id": "CFbmW3Uw2Y2f",
    "outputId": "2f6c6b4e-7cfe-45cd-bb40-1781ade446a1"
   },
   "outputs": [
    {
     "name": "stdout",
     "output_type": "stream",
     "text": [
      "WARNING:tensorflow:`input_shape` is undefined or non-square, or `rows` is not in [128, 160, 192, 224]. Weights for input shape (224, 224) will be loaded as the default.\n"
     ]
    }
   ],
   "source": [
    "from keras.applications import mobilenet\n",
    "\n",
    "mobilenet_transfer = mobilenet.MobileNet(weights='imagenet', include_top=False)\n",
    "\n",
    "class RNNCNN_TL2(ModelBuilder):\n",
    "    \n",
    "    def define_model(self,gru_cells=64,dense_neurons=64):\n",
    "        \n",
    "        model = Sequential()\n",
    "        model.add(TimeDistributed(mobilenet_transfer,input_shape=(self.frames_to_sample,self.image_height,self.image_width,self.channels)))\n",
    " \n",
    "        \n",
    "        model.add(TimeDistributed(BatchNormalization()))\n",
    "        model.add(TimeDistributed(MaxPooling2D((2, 2))))\n",
    "        model.add(TimeDistributed(Flatten()))\n",
    "\n",
    "        model.add(GRU(gru_cells))\n",
    "        # model.add(Dropout(dropout))\n",
    "        \n",
    "        model.add(Dense(dense_neurons,activation='relu'))\n",
    "        # model.add(Dropout(dropout))\n",
    "        \n",
    "        model.add(Dense(self.num_classes, activation='softmax'))\n",
    "        \n",
    "        \n",
    "        optimiser = optimizers.Adam()\n",
    "        model.compile(optimizer=optimiser, loss='categorical_crossentropy', metrics=['categorical_accuracy'])\n",
    "        return model"
   ]
  },
  {
   "cell_type": "code",
   "execution_count": null,
   "metadata": {
    "colab": {
     "base_uri": "https://localhost:8080/"
    },
    "id": "m6UXFDMf2Y2f",
    "outputId": "19a10500-b371-46aa-9d30-cf1e5f96eb28"
   },
   "outputs": [],
   "source": [
    "rnn_cnn_tl2=RNNCNN_TL2()\n",
    "rnn_cnn_tl2.initialize_path(project_folder)\n",
    "rnn_cnn_tl2.initialize_image_properties(image_height=120,image_width=120)\n",
    "rnn_cnn_tl2.initialize_hyperparams(frames_to_sample=16,batch_size=5,num_epochs=15)\n",
    "rnn_cnn_tl2_model=rnn_cnn_tl2.define_model(gru_cells=128,dense_neurons=128)\n",
    "rnn_cnn_tl2_model.summary()"
   ]
  },
  {
   "cell_type": "code",
   "execution_count": 44,
   "metadata": {
    "colab": {
     "base_uri": "https://localhost:8080/"
    },
    "id": "q5_DWnL82Y2g",
    "outputId": "81b58cac-162c-4949-e551-960af9a70d3d"
   },
   "outputs": [
    {
     "name": "stdout",
     "output_type": "stream",
     "text": [
      "Total Params: 3693253\n",
      "WARNING:tensorflow:`period` argument is deprecated. Please use `save_freq` to specify the frequency in number of batches seen.\n"
     ]
    },
    {
     "name": "stderr",
     "output_type": "stream",
     "text": [
      "/usr/local/lib/python3.7/dist-packages/tensorflow/python/keras/engine/training.py:1844: UserWarning: `Model.fit_generator` is deprecated and will be removed in a future version. Please use `Model.fit`, which supports generators.\n",
      "  warnings.warn('`Model.fit_generator` is deprecated and '\n",
      "/usr/local/lib/python3.7/dist-packages/ipykernel_launcher.py:56: DeprecationWarning:     `imread` is deprecated!\n",
      "    `imread` is deprecated in SciPy 1.0.0, and will be removed in 1.2.0.\n",
      "    Use ``imageio.imread`` instead.\n",
      "/usr/local/lib/python3.7/dist-packages/ipykernel_launcher.py:57: DeprecationWarning:     `imresize` is deprecated!\n",
      "    `imresize` is deprecated in SciPy 1.0.0, and will be removed in 1.2.0.\n",
      "    Use ``skimage.transform.resize`` instead.\n",
      "/usr/local/lib/python3.7/dist-packages/ipykernel_launcher.py:76: DeprecationWarning:     `imresize` is deprecated!\n",
      "    `imresize` is deprecated in SciPy 1.0.0, and will be removed in 1.2.0.\n",
      "    Use ``skimage.transform.resize`` instead.\n"
     ]
    },
    {
     "name": "stdout",
     "output_type": "stream",
     "text": [
      "Epoch 1/15\n",
      "133/133 [==============================] - 148s 1s/step - loss: 1.2468 - categorical_accuracy: 0.4857 - val_loss: 0.6094 - val_categorical_accuracy: 0.7200\n",
      "\n",
      "Epoch 00001: saving model to model_init_2021-05-0414_06_16.331777/model-00001-0.98397-0.59125-0.60938-0.72000.h5\n",
      "Epoch 2/15\n",
      "133/133 [==============================] - 141s 1s/step - loss: 0.5678 - categorical_accuracy: 0.8047 - val_loss: 1.1736 - val_categorical_accuracy: 0.6100\n",
      "\n",
      "Epoch 00002: saving model to model_init_2021-05-0414_06_16.331777/model-00002-0.49534-0.81674-1.17361-0.61000.h5\n",
      "Epoch 3/15\n",
      "133/133 [==============================] - 142s 1s/step - loss: 0.4048 - categorical_accuracy: 0.8642 - val_loss: 0.3926 - val_categorical_accuracy: 0.8400\n",
      "\n",
      "Epoch 00003: saving model to model_init_2021-05-0414_06_16.331777/model-00003-0.39020-0.86350-0.39257-0.84000.h5\n",
      "Epoch 4/15\n",
      "133/133 [==============================] - 138s 1s/step - loss: 0.2995 - categorical_accuracy: 0.9051 - val_loss: 0.4489 - val_categorical_accuracy: 0.8300\n",
      "\n",
      "Epoch 00004: saving model to model_init_2021-05-0414_06_16.331777/model-00004-0.30834-0.89442-0.44894-0.83000.h5\n",
      "Epoch 5/15\n",
      "133/133 [==============================] - 141s 1s/step - loss: 0.3076 - categorical_accuracy: 0.9113 - val_loss: 0.5434 - val_categorical_accuracy: 0.7900\n",
      "\n",
      "Epoch 00005: saving model to model_init_2021-05-0414_06_16.331777/model-00005-0.25338-0.92081-0.54344-0.79000.h5\n",
      "Epoch 6/15\n",
      "133/133 [==============================] - 141s 1s/step - loss: 0.2842 - categorical_accuracy: 0.9073 - val_loss: 0.6746 - val_categorical_accuracy: 0.8200\n",
      "\n",
      "Epoch 00006: saving model to model_init_2021-05-0414_06_16.331777/model-00006-0.26843-0.90724-0.67459-0.82000.h5\n",
      "Epoch 7/15\n",
      "133/133 [==============================] - 141s 1s/step - loss: 0.3623 - categorical_accuracy: 0.8817 - val_loss: 0.2754 - val_categorical_accuracy: 0.8900\n",
      "\n",
      "Epoch 00007: saving model to model_init_2021-05-0414_06_16.331777/model-00007-0.33480-0.89216-0.27539-0.89000.h5\n",
      "Epoch 8/15\n",
      "133/133 [==============================] - 140s 1s/step - loss: 0.1673 - categorical_accuracy: 0.9415 - val_loss: 0.1633 - val_categorical_accuracy: 0.9600\n",
      "\n",
      "Epoch 00008: saving model to model_init_2021-05-0414_06_16.331777/model-00008-0.21077-0.93137-0.16328-0.96000.h5\n",
      "Epoch 9/15\n",
      "133/133 [==============================] - 141s 1s/step - loss: 0.1616 - categorical_accuracy: 0.9378 - val_loss: 0.5222 - val_categorical_accuracy: 0.8700\n",
      "\n",
      "Epoch 00009: saving model to model_init_2021-05-0414_06_16.331777/model-00009-0.18020-0.93891-0.52220-0.87000.h5\n",
      "Epoch 10/15\n",
      "133/133 [==============================] - 140s 1s/step - loss: 0.2903 - categorical_accuracy: 0.8960 - val_loss: 0.1707 - val_categorical_accuracy: 0.9500\n",
      "\n",
      "Epoch 00010: saving model to model_init_2021-05-0414_06_16.331777/model-00010-0.23281-0.91478-0.17065-0.95000.h5\n",
      "Epoch 11/15\n",
      "133/133 [==============================] - 143s 1s/step - loss: 0.1317 - categorical_accuracy: 0.9588 - val_loss: 0.2630 - val_categorical_accuracy: 0.9100\n",
      "\n",
      "Epoch 00011: saving model to model_init_2021-05-0414_06_16.331777/model-00011-0.16070-0.94872-0.26298-0.91000.h5\n",
      "Epoch 12/15\n",
      "133/133 [==============================] - 142s 1s/step - loss: 0.1384 - categorical_accuracy: 0.9442 - val_loss: 0.1458 - val_categorical_accuracy: 0.9600\n",
      "\n",
      "Epoch 00012: saving model to model_init_2021-05-0414_06_16.331777/model-00012-0.14822-0.94268-0.14580-0.96000.h5\n",
      "Epoch 13/15\n",
      "133/133 [==============================] - 143s 1s/step - loss: 0.1696 - categorical_accuracy: 0.9429 - val_loss: 0.1275 - val_categorical_accuracy: 0.9500\n",
      "\n",
      "Epoch 00013: saving model to model_init_2021-05-0414_06_16.331777/model-00013-0.19519-0.93288-0.12745-0.95000.h5\n",
      "Epoch 14/15\n",
      "133/133 [==============================] - 143s 1s/step - loss: 0.1840 - categorical_accuracy: 0.9433 - val_loss: 0.2456 - val_categorical_accuracy: 0.9500\n",
      "\n",
      "Epoch 00014: saving model to model_init_2021-05-0414_06_16.331777/model-00014-0.16318-0.95400-0.24556-0.95000.h5\n",
      "Epoch 15/15\n",
      "133/133 [==============================] - 142s 1s/step - loss: 0.2560 - categorical_accuracy: 0.9162 - val_loss: 0.1745 - val_categorical_accuracy: 0.9600\n",
      "\n",
      "Epoch 00015: saving model to model_init_2021-05-0414_06_16.331777/model-00015-0.25956-0.90799-0.17445-0.96000.h5\n"
     ]
    }
   ],
   "source": [
    "print(\"Total Params:\", rnn_cnn_tl2_model.count_params())\n",
    "history_model19=rnn_cnn_tl2.train_model(rnn_cnn_tl2_model,augment_data=True)"
   ]
  },
  {
   "cell_type": "code",
   "execution_count": 45,
   "metadata": {
    "colab": {
     "base_uri": "https://localhost:8080/",
     "height": 265
    },
    "id": "rybLVvOc2Y2g",
    "outputId": "4702fab2-6aa7-498d-822a-373f811a4cc5"
   },
   "outputs": [
    {
     "data": {
      "image/png": "[encoded data removed]",
      "text/plain": [
       "<Figure size 1080x288 with 2 Axes>"
      ]
     },
     "metadata": {
      "needs_background": "light",
      "tags": []
     },
     "output_type": "display_data"
    }
   ],
   "source": [
    "plot(history_model19)"
   ]
  },
  {
   "cell_type": "markdown",
   "metadata": {
    "id": "sNSE35QG2Y2g"
   },
   "source": [
    "### Here , after using  Transfer learning and GRU  without using the drop outs , we've got validation accuracy as 96% and training accuracy as 91% at the end of 15th epoch"
   ]
  },
  {
   "cell_type": "code",
   "execution_count": null,
   "metadata": {
    "id": "xkwrFalY2lrB"
   },
   "outputs": [],
   "source": []
  }
 ],
 "metadata": {
  "accelerator": "GPU",
  "colab": {
   "collapsed_sections": [
    "7UikhISH2Y2d"
   ],
   "name": "Gesture_Recognition_Final.ipynb",
   "provenance": []
  },
  "kernelspec": {
   "display_name": "Python 3",
   "language": "python",
   "name": "python3"
  },
  "language_info": {
   "codemirror_mode": {
    "name": "ipython",
    "version": 3
   },
   "file_extension": ".py",
   "mimetype": "text/x-python",
   "name": "python",
   "nbconvert_exporter": "python",
   "pygments_lexer": "ipython3",
   "version": "3.7.1"
  }
 },
 "nbformat": 4,
 "nbformat_minor": 1
}
